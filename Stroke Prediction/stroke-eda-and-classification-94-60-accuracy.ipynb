{
 "cells": [
  {
   "cell_type": "markdown",
   "id": "least-integration",
   "metadata": {
    "papermill": {
     "duration": 0.050572,
     "end_time": "2021-03-18T11:21:52.937157",
     "exception": false,
     "start_time": "2021-03-18T11:21:52.886585",
     "status": "completed"
    },
    "tags": []
   },
   "source": [
    "**Table of Contents**\n",
    "* [Introduction](#introduction)\n",
    "* [Importing Libraries](#import)\n",
    "* [Importing Data](#data)\n",
    "* [Plots](#plots)\n",
    "    - [Boxplot](#boxplot)\n",
    "    - [Countplot](#countplot)\n",
    "    - [Heatmap](#heatmap)\n",
    "    - [Pairplot](#pairplot)\n",
    "* [Data Preprocessing](#prep)\n",
    "    - [Label Encoding](#label)\n",
    "    - [One Hot Encoding](#ohe)\n",
    "* [ML Models](#ml)\n",
    "* [CONCLUSION](#conclusion)"
   ]
  },
  {
   "cell_type": "markdown",
   "id": "challenging-sweet",
   "metadata": {
    "papermill": {
     "duration": 0.044604,
     "end_time": "2021-03-18T11:21:53.027084",
     "exception": false,
     "start_time": "2021-03-18T11:21:52.982480",
     "status": "completed"
    },
    "tags": []
   },
   "source": [
    "<a id=\"introduction\"></a>\n",
    "**INTRODUCTION**\n",
    "\n",
    "* A stroke occurs when the blood supply to part of your brain is interrupted or reduced, preventing brain tissue from getting oxygen and nutrients. Brain cells begin to die in minutes.\n",
    "\n",
    "* A stroke is a medical emergency, and prompt treatment is crucial. Early action can reduce brain damage and other complications.\n",
    "\n",
    "\n",
    "![](https://images.medicinenet.com/images/article/main_image/stroke-symptoms-and-treatment.jpg)\n",
    "\n",
    "<strong> Attribute Information </strong>\n",
    "*  id: unique identifier\n",
    "*  gender: \"Male\", \"Female\" or \"Other\"\n",
    "*  age: age of the patient\n",
    "*  hypertension: 0 if the patient doesn't have hypertension, 1 if the patient has hypertension\n",
    "*  heart_disease: 0 if the patient doesn't have any heart diseases, 1 if the patient has a heart disease\n",
    "*  ever_married: \"No\" or \"Yes\"\n",
    "*  work_type: \"children\", \"Govt_jov\", \"Never_worked\", \"Private\" or \"Self-employed\"\n",
    "*  Residence_type: \"Rural\" or \"Urban\"\n",
    "*  avg_glucose_level: average glucose level in blood\n",
    "*  bmi: body mass index\n",
    "*  smoking_status: \"formerly smoked\", \"never smoked\", \"smokes\" or \"Unknown\"*\n",
    "*  stroke: 1 if the patient had a stroke or 0 if not <br>\n",
    "\n",
    "*Note: \"Unknown\" in smoking_status means that the information is unavailable for this patient"
   ]
  },
  {
   "cell_type": "code",
   "execution_count": 1,
   "id": "anticipated-browser",
   "metadata": {
    "_cell_guid": "b1076dfc-b9ad-4769-8c92-a6c4dae69d19",
    "_kg_hide-input": false,
    "_kg_hide-output": false,
    "_uuid": "8f2839f25d086af736a60e9eeb907d3b93b6e0e5",
    "execution": {
     "iopub.execute_input": "2021-03-18T11:21:53.124013Z",
     "iopub.status.busy": "2021-03-18T11:21:53.123355Z",
     "iopub.status.idle": "2021-03-18T11:21:53.134169Z",
     "shell.execute_reply": "2021-03-18T11:21:53.134943Z"
    },
    "papermill": {
     "duration": 0.063422,
     "end_time": "2021-03-18T11:21:53.135364",
     "exception": false,
     "start_time": "2021-03-18T11:21:53.071942",
     "status": "completed"
    },
    "tags": []
   },
   "outputs": [
    {
     "name": "stdout",
     "output_type": "stream",
     "text": [
      "/kaggle/input/stroke-prediction-dataset/healthcare-dataset-stroke-data.csv\n"
     ]
    }
   ],
   "source": [
    "# This Python 3 environment comes with many helpful analytics libraries installed\n",
    "# It is defined by the kaggle/python Docker image: https://github.com/kaggle/docker-python\n",
    "# For example, here's several helpful packages to load\n",
    "\n",
    "# Input data files are available in the read-only \"../input/\" directory\n",
    "# For example, running this (by clicking run or pressing Shift+Enter) will list all files under the input directory\n",
    "\n",
    "import os\n",
    "for dirname, _, filenames in os.walk('/kaggle/input'):\n",
    "    for filename in filenames:\n",
    "        print(os.path.join(dirname, filename))\n",
    "\n",
    "# You can write up to 20GB to the current directory (/kaggle/working/) that gets preserved as output when you create a version using \"Save & Run All\" \n",
    "# You can also write temporary files to /kaggle/temp/, but they won't be saved outside of the current session"
   ]
  },
  {
   "cell_type": "markdown",
   "id": "expanded-digest",
   "metadata": {
    "papermill": {
     "duration": 0.046052,
     "end_time": "2021-03-18T11:21:53.228699",
     "exception": false,
     "start_time": "2021-03-18T11:21:53.182647",
     "status": "completed"
    },
    "tags": []
   },
   "source": [
    "<a id=\"import\"></a>\n",
    "# Libraries"
   ]
  },
  {
   "cell_type": "code",
   "execution_count": 2,
   "id": "bacterial-karen",
   "metadata": {
    "execution": {
     "iopub.execute_input": "2021-03-18T11:21:53.325211Z",
     "iopub.status.busy": "2021-03-18T11:21:53.324189Z",
     "iopub.status.idle": "2021-03-18T11:21:55.221552Z",
     "shell.execute_reply": "2021-03-18T11:21:55.222103Z"
    },
    "papermill": {
     "duration": 1.947418,
     "end_time": "2021-03-18T11:21:55.222303",
     "exception": false,
     "start_time": "2021-03-18T11:21:53.274885",
     "status": "completed"
    },
    "tags": []
   },
   "outputs": [],
   "source": [
    "import numpy as np \n",
    "import pandas as pd \n",
    "import matplotlib.pyplot as plt\n",
    "import seaborn as sns\n",
    "sns.set_style('darkgrid')\n",
    "from sklearn.preprocessing import LabelEncoder\n",
    "import warnings\n",
    "warnings.filterwarnings('ignore')\n",
    "\n",
    "from sklearn.model_selection import train_test_split\n",
    "from sklearn.preprocessing import StandardScaler\n",
    "\n",
    "from sklearn.linear_model import LogisticRegression\n",
    "from sklearn.naive_bayes import GaussianNB\n",
    "from sklearn.tree import DecisionTreeClassifier\n",
    "from sklearn.svm import SVC\n",
    "from sklearn.ensemble import RandomForestClassifier\n",
    "from sklearn.neighbors import KNeighborsClassifier\n",
    "from sklearn.ensemble import GradientBoostingClassifier\n",
    "from xgboost import XGBClassifier\n",
    "from sklearn.neural_network import MLPClassifier\n",
    "from sklearn.linear_model import SGDClassifier\n",
    "from sklearn.preprocessing import StandardScaler, LabelEncoder, OneHotEncoder\n",
    "from sklearn.metrics import confusion_matrix, accuracy_score\n",
    "from sklearn.metrics import classification_report"
   ]
  },
  {
   "cell_type": "markdown",
   "id": "posted-bones",
   "metadata": {
    "papermill": {
     "duration": 0.045589,
     "end_time": "2021-03-18T11:21:55.315208",
     "exception": false,
     "start_time": "2021-03-18T11:21:55.269619",
     "status": "completed"
    },
    "tags": []
   },
   "source": [
    "<a id=\"data\"></a>\n",
    "# Importing Data"
   ]
  },
  {
   "cell_type": "code",
   "execution_count": 3,
   "id": "superior-folder",
   "metadata": {
    "execution": {
     "iopub.execute_input": "2021-03-18T11:21:55.412760Z",
     "iopub.status.busy": "2021-03-18T11:21:55.412029Z",
     "iopub.status.idle": "2021-03-18T11:21:55.437798Z",
     "shell.execute_reply": "2021-03-18T11:21:55.438376Z"
    },
    "papermill": {
     "duration": 0.077355,
     "end_time": "2021-03-18T11:21:55.438569",
     "exception": false,
     "start_time": "2021-03-18T11:21:55.361214",
     "status": "completed"
    },
    "tags": []
   },
   "outputs": [],
   "source": [
    "df = pd.read_csv('../input/stroke-prediction-dataset/healthcare-dataset-stroke-data.csv')"
   ]
  },
  {
   "cell_type": "code",
   "execution_count": 4,
   "id": "powered-papua",
   "metadata": {
    "execution": {
     "iopub.execute_input": "2021-03-18T11:21:55.544092Z",
     "iopub.status.busy": "2021-03-18T11:21:55.543341Z",
     "iopub.status.idle": "2021-03-18T11:21:55.572329Z",
     "shell.execute_reply": "2021-03-18T11:21:55.572867Z"
    },
    "papermill": {
     "duration": 0.088307,
     "end_time": "2021-03-18T11:21:55.573042",
     "exception": false,
     "start_time": "2021-03-18T11:21:55.484735",
     "status": "completed"
    },
    "tags": []
   },
   "outputs": [
    {
     "data": {
      "text/html": [
       "<div>\n",
       "<style scoped>\n",
       "    .dataframe tbody tr th:only-of-type {\n",
       "        vertical-align: middle;\n",
       "    }\n",
       "\n",
       "    .dataframe tbody tr th {\n",
       "        vertical-align: top;\n",
       "    }\n",
       "\n",
       "    .dataframe thead th {\n",
       "        text-align: right;\n",
       "    }\n",
       "</style>\n",
       "<table border=\"1\" class=\"dataframe\">\n",
       "  <thead>\n",
       "    <tr style=\"text-align: right;\">\n",
       "      <th></th>\n",
       "      <th>id</th>\n",
       "      <th>gender</th>\n",
       "      <th>age</th>\n",
       "      <th>hypertension</th>\n",
       "      <th>heart_disease</th>\n",
       "      <th>ever_married</th>\n",
       "      <th>work_type</th>\n",
       "      <th>Residence_type</th>\n",
       "      <th>avg_glucose_level</th>\n",
       "      <th>bmi</th>\n",
       "      <th>smoking_status</th>\n",
       "      <th>stroke</th>\n",
       "    </tr>\n",
       "  </thead>\n",
       "  <tbody>\n",
       "    <tr>\n",
       "      <th>0</th>\n",
       "      <td>9046</td>\n",
       "      <td>Male</td>\n",
       "      <td>67.0</td>\n",
       "      <td>0</td>\n",
       "      <td>1</td>\n",
       "      <td>Yes</td>\n",
       "      <td>Private</td>\n",
       "      <td>Urban</td>\n",
       "      <td>228.69</td>\n",
       "      <td>36.6</td>\n",
       "      <td>formerly smoked</td>\n",
       "      <td>1</td>\n",
       "    </tr>\n",
       "    <tr>\n",
       "      <th>1</th>\n",
       "      <td>51676</td>\n",
       "      <td>Female</td>\n",
       "      <td>61.0</td>\n",
       "      <td>0</td>\n",
       "      <td>0</td>\n",
       "      <td>Yes</td>\n",
       "      <td>Self-employed</td>\n",
       "      <td>Rural</td>\n",
       "      <td>202.21</td>\n",
       "      <td>NaN</td>\n",
       "      <td>never smoked</td>\n",
       "      <td>1</td>\n",
       "    </tr>\n",
       "    <tr>\n",
       "      <th>2</th>\n",
       "      <td>31112</td>\n",
       "      <td>Male</td>\n",
       "      <td>80.0</td>\n",
       "      <td>0</td>\n",
       "      <td>1</td>\n",
       "      <td>Yes</td>\n",
       "      <td>Private</td>\n",
       "      <td>Rural</td>\n",
       "      <td>105.92</td>\n",
       "      <td>32.5</td>\n",
       "      <td>never smoked</td>\n",
       "      <td>1</td>\n",
       "    </tr>\n",
       "    <tr>\n",
       "      <th>3</th>\n",
       "      <td>60182</td>\n",
       "      <td>Female</td>\n",
       "      <td>49.0</td>\n",
       "      <td>0</td>\n",
       "      <td>0</td>\n",
       "      <td>Yes</td>\n",
       "      <td>Private</td>\n",
       "      <td>Urban</td>\n",
       "      <td>171.23</td>\n",
       "      <td>34.4</td>\n",
       "      <td>smokes</td>\n",
       "      <td>1</td>\n",
       "    </tr>\n",
       "    <tr>\n",
       "      <th>4</th>\n",
       "      <td>1665</td>\n",
       "      <td>Female</td>\n",
       "      <td>79.0</td>\n",
       "      <td>1</td>\n",
       "      <td>0</td>\n",
       "      <td>Yes</td>\n",
       "      <td>Self-employed</td>\n",
       "      <td>Rural</td>\n",
       "      <td>174.12</td>\n",
       "      <td>24.0</td>\n",
       "      <td>never smoked</td>\n",
       "      <td>1</td>\n",
       "    </tr>\n",
       "  </tbody>\n",
       "</table>\n",
       "</div>"
      ],
      "text/plain": [
       "      id  gender   age  hypertension  heart_disease ever_married  \\\n",
       "0   9046    Male  67.0             0              1          Yes   \n",
       "1  51676  Female  61.0             0              0          Yes   \n",
       "2  31112    Male  80.0             0              1          Yes   \n",
       "3  60182  Female  49.0             0              0          Yes   \n",
       "4   1665  Female  79.0             1              0          Yes   \n",
       "\n",
       "       work_type Residence_type  avg_glucose_level   bmi   smoking_status  \\\n",
       "0        Private          Urban             228.69  36.6  formerly smoked   \n",
       "1  Self-employed          Rural             202.21   NaN     never smoked   \n",
       "2        Private          Rural             105.92  32.5     never smoked   \n",
       "3        Private          Urban             171.23  34.4           smokes   \n",
       "4  Self-employed          Rural             174.12  24.0     never smoked   \n",
       "\n",
       "   stroke  \n",
       "0       1  \n",
       "1       1  \n",
       "2       1  \n",
       "3       1  \n",
       "4       1  "
      ]
     },
     "execution_count": 4,
     "metadata": {},
     "output_type": "execute_result"
    }
   ],
   "source": [
    "df.head()"
   ]
  },
  {
   "cell_type": "code",
   "execution_count": 5,
   "id": "higher-mounting",
   "metadata": {
    "execution": {
     "iopub.execute_input": "2021-03-18T11:21:55.672482Z",
     "iopub.status.busy": "2021-03-18T11:21:55.671796Z",
     "iopub.status.idle": "2021-03-18T11:21:55.677554Z",
     "shell.execute_reply": "2021-03-18T11:21:55.678060Z"
    },
    "papermill": {
     "duration": 0.057585,
     "end_time": "2021-03-18T11:21:55.678283",
     "exception": false,
     "start_time": "2021-03-18T11:21:55.620698",
     "status": "completed"
    },
    "tags": []
   },
   "outputs": [],
   "source": [
    "df.drop(['id'], axis = 1, inplace=True)"
   ]
  },
  {
   "cell_type": "code",
   "execution_count": 6,
   "id": "willing-compact",
   "metadata": {
    "execution": {
     "iopub.execute_input": "2021-03-18T11:21:55.776271Z",
     "iopub.status.busy": "2021-03-18T11:21:55.775577Z",
     "iopub.status.idle": "2021-03-18T11:21:55.794555Z",
     "shell.execute_reply": "2021-03-18T11:21:55.795101Z"
    },
    "papermill": {
     "duration": 0.070114,
     "end_time": "2021-03-18T11:21:55.795295",
     "exception": false,
     "start_time": "2021-03-18T11:21:55.725181",
     "status": "completed"
    },
    "tags": []
   },
   "outputs": [
    {
     "data": {
      "text/html": [
       "<div>\n",
       "<style scoped>\n",
       "    .dataframe tbody tr th:only-of-type {\n",
       "        vertical-align: middle;\n",
       "    }\n",
       "\n",
       "    .dataframe tbody tr th {\n",
       "        vertical-align: top;\n",
       "    }\n",
       "\n",
       "    .dataframe thead th {\n",
       "        text-align: right;\n",
       "    }\n",
       "</style>\n",
       "<table border=\"1\" class=\"dataframe\">\n",
       "  <thead>\n",
       "    <tr style=\"text-align: right;\">\n",
       "      <th></th>\n",
       "      <th>gender</th>\n",
       "      <th>age</th>\n",
       "      <th>hypertension</th>\n",
       "      <th>heart_disease</th>\n",
       "      <th>ever_married</th>\n",
       "      <th>work_type</th>\n",
       "      <th>Residence_type</th>\n",
       "      <th>avg_glucose_level</th>\n",
       "      <th>bmi</th>\n",
       "      <th>smoking_status</th>\n",
       "      <th>stroke</th>\n",
       "    </tr>\n",
       "  </thead>\n",
       "  <tbody>\n",
       "    <tr>\n",
       "      <th>3787</th>\n",
       "      <td>Female</td>\n",
       "      <td>18.0</td>\n",
       "      <td>0</td>\n",
       "      <td>0</td>\n",
       "      <td>No</td>\n",
       "      <td>Private</td>\n",
       "      <td>Urban</td>\n",
       "      <td>95.87</td>\n",
       "      <td>23.0</td>\n",
       "      <td>never smoked</td>\n",
       "      <td>0</td>\n",
       "    </tr>\n",
       "    <tr>\n",
       "      <th>3404</th>\n",
       "      <td>Female</td>\n",
       "      <td>36.0</td>\n",
       "      <td>0</td>\n",
       "      <td>0</td>\n",
       "      <td>Yes</td>\n",
       "      <td>Private</td>\n",
       "      <td>Urban</td>\n",
       "      <td>96.70</td>\n",
       "      <td>31.4</td>\n",
       "      <td>Unknown</td>\n",
       "      <td>0</td>\n",
       "    </tr>\n",
       "    <tr>\n",
       "      <th>1782</th>\n",
       "      <td>Female</td>\n",
       "      <td>59.0</td>\n",
       "      <td>0</td>\n",
       "      <td>0</td>\n",
       "      <td>Yes</td>\n",
       "      <td>Private</td>\n",
       "      <td>Rural</td>\n",
       "      <td>234.82</td>\n",
       "      <td>51.8</td>\n",
       "      <td>never smoked</td>\n",
       "      <td>0</td>\n",
       "    </tr>\n",
       "    <tr>\n",
       "      <th>4794</th>\n",
       "      <td>Male</td>\n",
       "      <td>8.0</td>\n",
       "      <td>0</td>\n",
       "      <td>0</td>\n",
       "      <td>No</td>\n",
       "      <td>children</td>\n",
       "      <td>Rural</td>\n",
       "      <td>108.06</td>\n",
       "      <td>14.6</td>\n",
       "      <td>Unknown</td>\n",
       "      <td>0</td>\n",
       "    </tr>\n",
       "    <tr>\n",
       "      <th>3612</th>\n",
       "      <td>Male</td>\n",
       "      <td>17.0</td>\n",
       "      <td>0</td>\n",
       "      <td>0</td>\n",
       "      <td>No</td>\n",
       "      <td>Private</td>\n",
       "      <td>Rural</td>\n",
       "      <td>83.26</td>\n",
       "      <td>32.9</td>\n",
       "      <td>never smoked</td>\n",
       "      <td>0</td>\n",
       "    </tr>\n",
       "    <tr>\n",
       "      <th>3154</th>\n",
       "      <td>Female</td>\n",
       "      <td>65.0</td>\n",
       "      <td>0</td>\n",
       "      <td>0</td>\n",
       "      <td>Yes</td>\n",
       "      <td>Private</td>\n",
       "      <td>Rural</td>\n",
       "      <td>82.83</td>\n",
       "      <td>27.8</td>\n",
       "      <td>formerly smoked</td>\n",
       "      <td>0</td>\n",
       "    </tr>\n",
       "  </tbody>\n",
       "</table>\n",
       "</div>"
      ],
      "text/plain": [
       "      gender   age  hypertension  heart_disease ever_married work_type  \\\n",
       "3787  Female  18.0             0              0           No   Private   \n",
       "3404  Female  36.0             0              0          Yes   Private   \n",
       "1782  Female  59.0             0              0          Yes   Private   \n",
       "4794    Male   8.0             0              0           No  children   \n",
       "3612    Male  17.0             0              0           No   Private   \n",
       "3154  Female  65.0             0              0          Yes   Private   \n",
       "\n",
       "     Residence_type  avg_glucose_level   bmi   smoking_status  stroke  \n",
       "3787          Urban              95.87  23.0     never smoked       0  \n",
       "3404          Urban              96.70  31.4          Unknown       0  \n",
       "1782          Rural             234.82  51.8     never smoked       0  \n",
       "4794          Rural             108.06  14.6          Unknown       0  \n",
       "3612          Rural              83.26  32.9     never smoked       0  \n",
       "3154          Rural              82.83  27.8  formerly smoked       0  "
      ]
     },
     "execution_count": 6,
     "metadata": {},
     "output_type": "execute_result"
    }
   ],
   "source": [
    "df.sample(6)"
   ]
  },
  {
   "cell_type": "code",
   "execution_count": 7,
   "id": "present-surfing",
   "metadata": {
    "execution": {
     "iopub.execute_input": "2021-03-18T11:21:55.894935Z",
     "iopub.status.busy": "2021-03-18T11:21:55.894293Z",
     "iopub.status.idle": "2021-03-18T11:21:55.915061Z",
     "shell.execute_reply": "2021-03-18T11:21:55.915622Z"
    },
    "papermill": {
     "duration": 0.07265,
     "end_time": "2021-03-18T11:21:55.915799",
     "exception": false,
     "start_time": "2021-03-18T11:21:55.843149",
     "status": "completed"
    },
    "tags": []
   },
   "outputs": [
    {
     "name": "stdout",
     "output_type": "stream",
     "text": [
      "<class 'pandas.core.frame.DataFrame'>\n",
      "RangeIndex: 5110 entries, 0 to 5109\n",
      "Data columns (total 11 columns):\n",
      " #   Column             Non-Null Count  Dtype  \n",
      "---  ------             --------------  -----  \n",
      " 0   gender             5110 non-null   object \n",
      " 1   age                5110 non-null   float64\n",
      " 2   hypertension       5110 non-null   int64  \n",
      " 3   heart_disease      5110 non-null   int64  \n",
      " 4   ever_married       5110 non-null   object \n",
      " 5   work_type          5110 non-null   object \n",
      " 6   Residence_type     5110 non-null   object \n",
      " 7   avg_glucose_level  5110 non-null   float64\n",
      " 8   bmi                4909 non-null   float64\n",
      " 9   smoking_status     5110 non-null   object \n",
      " 10  stroke             5110 non-null   int64  \n",
      "dtypes: float64(3), int64(3), object(5)\n",
      "memory usage: 439.3+ KB\n"
     ]
    }
   ],
   "source": [
    "df.info()"
   ]
  },
  {
   "cell_type": "code",
   "execution_count": 8,
   "id": "tight-serbia",
   "metadata": {
    "execution": {
     "iopub.execute_input": "2021-03-18T11:21:56.017192Z",
     "iopub.status.busy": "2021-03-18T11:21:56.016519Z",
     "iopub.status.idle": "2021-03-18T11:21:56.052278Z",
     "shell.execute_reply": "2021-03-18T11:21:56.051682Z"
    },
    "papermill": {
     "duration": 0.087087,
     "end_time": "2021-03-18T11:21:56.052437",
     "exception": false,
     "start_time": "2021-03-18T11:21:55.965350",
     "status": "completed"
    },
    "tags": []
   },
   "outputs": [
    {
     "data": {
      "text/html": [
       "<div>\n",
       "<style scoped>\n",
       "    .dataframe tbody tr th:only-of-type {\n",
       "        vertical-align: middle;\n",
       "    }\n",
       "\n",
       "    .dataframe tbody tr th {\n",
       "        vertical-align: top;\n",
       "    }\n",
       "\n",
       "    .dataframe thead th {\n",
       "        text-align: right;\n",
       "    }\n",
       "</style>\n",
       "<table border=\"1\" class=\"dataframe\">\n",
       "  <thead>\n",
       "    <tr style=\"text-align: right;\">\n",
       "      <th></th>\n",
       "      <th>count</th>\n",
       "      <th>mean</th>\n",
       "      <th>std</th>\n",
       "      <th>min</th>\n",
       "      <th>25%</th>\n",
       "      <th>50%</th>\n",
       "      <th>75%</th>\n",
       "      <th>max</th>\n",
       "    </tr>\n",
       "  </thead>\n",
       "  <tbody>\n",
       "    <tr>\n",
       "      <th>age</th>\n",
       "      <td>5110.0</td>\n",
       "      <td>43.226614</td>\n",
       "      <td>22.612647</td>\n",
       "      <td>0.08</td>\n",
       "      <td>25.000</td>\n",
       "      <td>45.000</td>\n",
       "      <td>61.00</td>\n",
       "      <td>82.00</td>\n",
       "    </tr>\n",
       "    <tr>\n",
       "      <th>hypertension</th>\n",
       "      <td>5110.0</td>\n",
       "      <td>0.097456</td>\n",
       "      <td>0.296607</td>\n",
       "      <td>0.00</td>\n",
       "      <td>0.000</td>\n",
       "      <td>0.000</td>\n",
       "      <td>0.00</td>\n",
       "      <td>1.00</td>\n",
       "    </tr>\n",
       "    <tr>\n",
       "      <th>heart_disease</th>\n",
       "      <td>5110.0</td>\n",
       "      <td>0.054012</td>\n",
       "      <td>0.226063</td>\n",
       "      <td>0.00</td>\n",
       "      <td>0.000</td>\n",
       "      <td>0.000</td>\n",
       "      <td>0.00</td>\n",
       "      <td>1.00</td>\n",
       "    </tr>\n",
       "    <tr>\n",
       "      <th>avg_glucose_level</th>\n",
       "      <td>5110.0</td>\n",
       "      <td>106.147677</td>\n",
       "      <td>45.283560</td>\n",
       "      <td>55.12</td>\n",
       "      <td>77.245</td>\n",
       "      <td>91.885</td>\n",
       "      <td>114.09</td>\n",
       "      <td>271.74</td>\n",
       "    </tr>\n",
       "    <tr>\n",
       "      <th>bmi</th>\n",
       "      <td>4909.0</td>\n",
       "      <td>28.893237</td>\n",
       "      <td>7.854067</td>\n",
       "      <td>10.30</td>\n",
       "      <td>23.500</td>\n",
       "      <td>28.100</td>\n",
       "      <td>33.10</td>\n",
       "      <td>97.60</td>\n",
       "    </tr>\n",
       "    <tr>\n",
       "      <th>stroke</th>\n",
       "      <td>5110.0</td>\n",
       "      <td>0.048728</td>\n",
       "      <td>0.215320</td>\n",
       "      <td>0.00</td>\n",
       "      <td>0.000</td>\n",
       "      <td>0.000</td>\n",
       "      <td>0.00</td>\n",
       "      <td>1.00</td>\n",
       "    </tr>\n",
       "  </tbody>\n",
       "</table>\n",
       "</div>"
      ],
      "text/plain": [
       "                    count        mean        std    min     25%     50%  \\\n",
       "age                5110.0   43.226614  22.612647   0.08  25.000  45.000   \n",
       "hypertension       5110.0    0.097456   0.296607   0.00   0.000   0.000   \n",
       "heart_disease      5110.0    0.054012   0.226063   0.00   0.000   0.000   \n",
       "avg_glucose_level  5110.0  106.147677  45.283560  55.12  77.245  91.885   \n",
       "bmi                4909.0   28.893237   7.854067  10.30  23.500  28.100   \n",
       "stroke             5110.0    0.048728   0.215320   0.00   0.000   0.000   \n",
       "\n",
       "                      75%     max  \n",
       "age                 61.00   82.00  \n",
       "hypertension         0.00    1.00  \n",
       "heart_disease        0.00    1.00  \n",
       "avg_glucose_level  114.09  271.74  \n",
       "bmi                 33.10   97.60  \n",
       "stroke               0.00    1.00  "
      ]
     },
     "execution_count": 8,
     "metadata": {},
     "output_type": "execute_result"
    }
   ],
   "source": [
    "df.describe().T"
   ]
  },
  {
   "cell_type": "markdown",
   "id": "dominant-reform",
   "metadata": {
    "papermill": {
     "duration": 0.049043,
     "end_time": "2021-03-18T11:21:56.151442",
     "exception": false,
     "start_time": "2021-03-18T11:21:56.102399",
     "status": "completed"
    },
    "tags": []
   },
   "source": [
    "**Printing the informations about stroke data**"
   ]
  },
  {
   "cell_type": "code",
   "execution_count": 9,
   "id": "established-measurement",
   "metadata": {
    "execution": {
     "iopub.execute_input": "2021-03-18T11:21:56.262542Z",
     "iopub.status.busy": "2021-03-18T11:21:56.261773Z",
     "iopub.status.idle": "2021-03-18T11:21:56.282726Z",
     "shell.execute_reply": "2021-03-18T11:21:56.282111Z"
    },
    "papermill": {
     "duration": 0.082558,
     "end_time": "2021-03-18T11:21:56.282874",
     "exception": false,
     "start_time": "2021-03-18T11:21:56.200316",
     "status": "completed"
    },
    "tags": []
   },
   "outputs": [
    {
     "name": "stdout",
     "output_type": "stream",
     "text": [
      "Rows     :  5110\n",
      "Columns  :  11\n",
      "\n",
      "Features : \n",
      " ['gender', 'age', 'hypertension', 'heart_disease', 'ever_married', 'work_type', 'Residence_type', 'avg_glucose_level', 'bmi', 'smoking_status', 'stroke']\n",
      "\n",
      "Missing values :   201\n",
      "\n",
      "Unique values : \n",
      " gender                  3\n",
      "age                   104\n",
      "hypertension            2\n",
      "heart_disease           2\n",
      "ever_married            2\n",
      "work_type               5\n",
      "Residence_type          2\n",
      "avg_glucose_level    3979\n",
      "bmi                   418\n",
      "smoking_status          4\n",
      "stroke                  2\n",
      "dtype: int64\n"
     ]
    }
   ],
   "source": [
    "print (\"Rows     : \" , df.shape[0])\n",
    "print (\"Columns  : \" , df.shape[1])\n",
    "print (\"\\nFeatures : \\n\" , df.columns.tolist())\n",
    "print (\"\\nMissing values :  \", df.isnull().sum().values.sum())\n",
    "print (\"\\nUnique values : \\n\",df.nunique())"
   ]
  },
  {
   "cell_type": "markdown",
   "id": "micro-robert",
   "metadata": {
    "papermill": {
     "duration": 0.048956,
     "end_time": "2021-03-18T11:21:56.381481",
     "exception": false,
     "start_time": "2021-03-18T11:21:56.332525",
     "status": "completed"
    },
    "tags": []
   },
   "source": [
    "**Let's find out what is missing**"
   ]
  },
  {
   "cell_type": "code",
   "execution_count": 10,
   "id": "complimentary-lotus",
   "metadata": {
    "execution": {
     "iopub.execute_input": "2021-03-18T11:21:56.493138Z",
     "iopub.status.busy": "2021-03-18T11:21:56.492157Z",
     "iopub.status.idle": "2021-03-18T11:21:56.497773Z",
     "shell.execute_reply": "2021-03-18T11:21:56.497197Z"
    },
    "papermill": {
     "duration": 0.066881,
     "end_time": "2021-03-18T11:21:56.497927",
     "exception": false,
     "start_time": "2021-03-18T11:21:56.431046",
     "status": "completed"
    },
    "tags": []
   },
   "outputs": [
    {
     "data": {
      "text/plain": [
       "bmi                  201\n",
       "gender                 0\n",
       "age                    0\n",
       "hypertension           0\n",
       "heart_disease          0\n",
       "ever_married           0\n",
       "work_type              0\n",
       "Residence_type         0\n",
       "avg_glucose_level      0\n",
       "smoking_status         0\n",
       "stroke                 0\n",
       "dtype: int64"
      ]
     },
     "execution_count": 10,
     "metadata": {},
     "output_type": "execute_result"
    }
   ],
   "source": [
    "df.isnull().sum().sort_values(ascending=False)[:]"
   ]
  },
  {
   "cell_type": "code",
   "execution_count": 11,
   "id": "automated-greeting",
   "metadata": {
    "execution": {
     "iopub.execute_input": "2021-03-18T11:21:56.604142Z",
     "iopub.status.busy": "2021-03-18T11:21:56.603420Z",
     "iopub.status.idle": "2021-03-18T11:21:56.605405Z",
     "shell.execute_reply": "2021-03-18T11:21:56.605927Z"
    },
    "papermill": {
     "duration": 0.058213,
     "end_time": "2021-03-18T11:21:56.606108",
     "exception": false,
     "start_time": "2021-03-18T11:21:56.547895",
     "status": "completed"
    },
    "tags": []
   },
   "outputs": [],
   "source": [
    "df['bmi'].fillna(df['bmi'].mean(), inplace=True)"
   ]
  },
  {
   "cell_type": "code",
   "execution_count": 12,
   "id": "dried-jenny",
   "metadata": {
    "execution": {
     "iopub.execute_input": "2021-03-18T11:21:56.708805Z",
     "iopub.status.busy": "2021-03-18T11:21:56.708000Z",
     "iopub.status.idle": "2021-03-18T11:21:56.724312Z",
     "shell.execute_reply": "2021-03-18T11:21:56.724823Z"
    },
    "papermill": {
     "duration": 0.069145,
     "end_time": "2021-03-18T11:21:56.724998",
     "exception": false,
     "start_time": "2021-03-18T11:21:56.655853",
     "status": "completed"
    },
    "tags": []
   },
   "outputs": [
    {
     "data": {
      "text/html": [
       "<div>\n",
       "<style scoped>\n",
       "    .dataframe tbody tr th:only-of-type {\n",
       "        vertical-align: middle;\n",
       "    }\n",
       "\n",
       "    .dataframe tbody tr th {\n",
       "        vertical-align: top;\n",
       "    }\n",
       "\n",
       "    .dataframe thead th {\n",
       "        text-align: right;\n",
       "    }\n",
       "</style>\n",
       "<table border=\"1\" class=\"dataframe\">\n",
       "  <thead>\n",
       "    <tr style=\"text-align: right;\">\n",
       "      <th></th>\n",
       "      <th>gender</th>\n",
       "      <th>age</th>\n",
       "      <th>hypertension</th>\n",
       "      <th>heart_disease</th>\n",
       "      <th>ever_married</th>\n",
       "      <th>work_type</th>\n",
       "      <th>Residence_type</th>\n",
       "      <th>avg_glucose_level</th>\n",
       "      <th>bmi</th>\n",
       "      <th>smoking_status</th>\n",
       "      <th>stroke</th>\n",
       "    </tr>\n",
       "  </thead>\n",
       "  <tbody>\n",
       "    <tr>\n",
       "      <th>0</th>\n",
       "      <td>Male</td>\n",
       "      <td>67.0</td>\n",
       "      <td>0</td>\n",
       "      <td>1</td>\n",
       "      <td>Yes</td>\n",
       "      <td>Private</td>\n",
       "      <td>Urban</td>\n",
       "      <td>228.69</td>\n",
       "      <td>36.600000</td>\n",
       "      <td>formerly smoked</td>\n",
       "      <td>1</td>\n",
       "    </tr>\n",
       "    <tr>\n",
       "      <th>1</th>\n",
       "      <td>Female</td>\n",
       "      <td>61.0</td>\n",
       "      <td>0</td>\n",
       "      <td>0</td>\n",
       "      <td>Yes</td>\n",
       "      <td>Self-employed</td>\n",
       "      <td>Rural</td>\n",
       "      <td>202.21</td>\n",
       "      <td>28.893237</td>\n",
       "      <td>never smoked</td>\n",
       "      <td>1</td>\n",
       "    </tr>\n",
       "    <tr>\n",
       "      <th>2</th>\n",
       "      <td>Male</td>\n",
       "      <td>80.0</td>\n",
       "      <td>0</td>\n",
       "      <td>1</td>\n",
       "      <td>Yes</td>\n",
       "      <td>Private</td>\n",
       "      <td>Rural</td>\n",
       "      <td>105.92</td>\n",
       "      <td>32.500000</td>\n",
       "      <td>never smoked</td>\n",
       "      <td>1</td>\n",
       "    </tr>\n",
       "    <tr>\n",
       "      <th>3</th>\n",
       "      <td>Female</td>\n",
       "      <td>49.0</td>\n",
       "      <td>0</td>\n",
       "      <td>0</td>\n",
       "      <td>Yes</td>\n",
       "      <td>Private</td>\n",
       "      <td>Urban</td>\n",
       "      <td>171.23</td>\n",
       "      <td>34.400000</td>\n",
       "      <td>smokes</td>\n",
       "      <td>1</td>\n",
       "    </tr>\n",
       "    <tr>\n",
       "      <th>4</th>\n",
       "      <td>Female</td>\n",
       "      <td>79.0</td>\n",
       "      <td>1</td>\n",
       "      <td>0</td>\n",
       "      <td>Yes</td>\n",
       "      <td>Self-employed</td>\n",
       "      <td>Rural</td>\n",
       "      <td>174.12</td>\n",
       "      <td>24.000000</td>\n",
       "      <td>never smoked</td>\n",
       "      <td>1</td>\n",
       "    </tr>\n",
       "  </tbody>\n",
       "</table>\n",
       "</div>"
      ],
      "text/plain": [
       "   gender   age  hypertension  heart_disease ever_married      work_type  \\\n",
       "0    Male  67.0             0              1          Yes        Private   \n",
       "1  Female  61.0             0              0          Yes  Self-employed   \n",
       "2    Male  80.0             0              1          Yes        Private   \n",
       "3  Female  49.0             0              0          Yes        Private   \n",
       "4  Female  79.0             1              0          Yes  Self-employed   \n",
       "\n",
       "  Residence_type  avg_glucose_level        bmi   smoking_status  stroke  \n",
       "0          Urban             228.69  36.600000  formerly smoked       1  \n",
       "1          Rural             202.21  28.893237     never smoked       1  \n",
       "2          Rural             105.92  32.500000     never smoked       1  \n",
       "3          Urban             171.23  34.400000           smokes       1  \n",
       "4          Rural             174.12  24.000000     never smoked       1  "
      ]
     },
     "execution_count": 12,
     "metadata": {},
     "output_type": "execute_result"
    }
   ],
   "source": [
    "df.head()"
   ]
  },
  {
   "cell_type": "markdown",
   "id": "likely-fight",
   "metadata": {
    "papermill": {
     "duration": 0.049819,
     "end_time": "2021-03-18T11:21:56.825586",
     "exception": false,
     "start_time": "2021-03-18T11:21:56.775767",
     "status": "completed"
    },
    "tags": []
   },
   "source": []
  },
  {
   "cell_type": "markdown",
   "id": "close-prize",
   "metadata": {
    "papermill": {
     "duration": 0.050017,
     "end_time": "2021-03-18T11:21:56.926282",
     "exception": false,
     "start_time": "2021-03-18T11:21:56.876265",
     "status": "completed"
    },
    "tags": []
   },
   "source": [
    "<a id=\"boxplot\"></a>\n",
    "# BoxPlot"
   ]
  },
  {
   "cell_type": "code",
   "execution_count": 13,
   "id": "sharing-series",
   "metadata": {
    "execution": {
     "iopub.execute_input": "2021-03-18T11:21:57.030690Z",
     "iopub.status.busy": "2021-03-18T11:21:57.029973Z",
     "iopub.status.idle": "2021-03-18T11:21:57.212241Z",
     "shell.execute_reply": "2021-03-18T11:21:57.210939Z"
    },
    "papermill": {
     "duration": 0.235848,
     "end_time": "2021-03-18T11:21:57.212406",
     "exception": false,
     "start_time": "2021-03-18T11:21:56.976558",
     "status": "completed"
    },
    "tags": []
   },
   "outputs": [
    {
     "data": {
      "text/plain": [
       "<AxesSubplot:xlabel='avg_glucose_level'>"
      ]
     },
     "execution_count": 13,
     "metadata": {},
     "output_type": "execute_result"
    },
    {
     "data": {
      "image/png": "[encoded data removed]",
      "text/plain": [
       "<Figure size 432x288 with 1 Axes>"
      ]
     },
     "metadata": {},
     "output_type": "display_data"
    }
   ],
   "source": [
    "sns.boxplot(x='avg_glucose_level',data=df, color='Red')"
   ]
  },
  {
   "cell_type": "code",
   "execution_count": 14,
   "id": "friendly-heath",
   "metadata": {
    "execution": {
     "iopub.execute_input": "2021-03-18T11:21:57.323675Z",
     "iopub.status.busy": "2021-03-18T11:21:57.322503Z",
     "iopub.status.idle": "2021-03-18T11:21:57.473038Z",
     "shell.execute_reply": "2021-03-18T11:21:57.472408Z"
    },
    "papermill": {
     "duration": 0.207384,
     "end_time": "2021-03-18T11:21:57.473183",
     "exception": false,
     "start_time": "2021-03-18T11:21:57.265799",
     "status": "completed"
    },
    "tags": []
   },
   "outputs": [
    {
     "data": {
      "text/plain": [
       "<AxesSubplot:xlabel='bmi'>"
      ]
     },
     "execution_count": 14,
     "metadata": {},
     "output_type": "execute_result"
    },
    {
     "data": {
      "image/png": "[encoded data removed]",
      "text/plain": [
       "<Figure size 432x288 with 1 Axes>"
      ]
     },
     "metadata": {},
     "output_type": "display_data"
    }
   ],
   "source": [
    "sns.boxplot(x='bmi',data=df, color = 'Green')"
   ]
  },
  {
   "cell_type": "code",
   "execution_count": 15,
   "id": "bored-college",
   "metadata": {
    "execution": {
     "iopub.execute_input": "2021-03-18T11:21:57.603678Z",
     "iopub.status.busy": "2021-03-18T11:21:57.599041Z",
     "iopub.status.idle": "2021-03-18T11:21:57.731331Z",
     "shell.execute_reply": "2021-03-18T11:21:57.730727Z"
    },
    "papermill": {
     "duration": 0.205676,
     "end_time": "2021-03-18T11:21:57.731481",
     "exception": false,
     "start_time": "2021-03-18T11:21:57.525805",
     "status": "completed"
    },
    "tags": []
   },
   "outputs": [
    {
     "data": {
      "text/plain": [
       "<AxesSubplot:xlabel='age'>"
      ]
     },
     "execution_count": 15,
     "metadata": {},
     "output_type": "execute_result"
    },
    {
     "data": {
      "image/png": "[encoded data removed]",
      "text/plain": [
       "<Figure size 432x288 with 1 Axes>"
      ]
     },
     "metadata": {},
     "output_type": "display_data"
    }
   ],
   "source": [
    "sns.boxplot(x='age',data=df , color = 'Blue')"
   ]
  },
  {
   "cell_type": "markdown",
   "id": "complete-press",
   "metadata": {
    "papermill": {
     "duration": 0.054288,
     "end_time": "2021-03-18T11:21:57.839435",
     "exception": false,
     "start_time": "2021-03-18T11:21:57.785147",
     "status": "completed"
    },
    "tags": []
   },
   "source": [
    "* Age mostly distributed between approximately 25 and 62 "
   ]
  },
  {
   "cell_type": "markdown",
   "id": "fallen-framing",
   "metadata": {
    "papermill": {
     "duration": 0.054259,
     "end_time": "2021-03-18T11:21:57.947112",
     "exception": false,
     "start_time": "2021-03-18T11:21:57.892853",
     "status": "completed"
    },
    "tags": []
   },
   "source": [
    "<a id=\"countplot\"></a>\n",
    "# Countplots"
   ]
  },
  {
   "cell_type": "code",
   "execution_count": 16,
   "id": "unable-slope",
   "metadata": {
    "execution": {
     "iopub.execute_input": "2021-03-18T11:21:58.062214Z",
     "iopub.status.busy": "2021-03-18T11:21:58.061534Z",
     "iopub.status.idle": "2021-03-18T11:21:58.213665Z",
     "shell.execute_reply": "2021-03-18T11:21:58.212916Z"
    },
    "papermill": {
     "duration": 0.212913,
     "end_time": "2021-03-18T11:21:58.213843",
     "exception": false,
     "start_time": "2021-03-18T11:21:58.000930",
     "status": "completed"
    },
    "tags": []
   },
   "outputs": [
    {
     "data": {
      "text/plain": [
       "Text(0.5, 1.0, 'Stroke / Ever-Married')"
      ]
     },
     "execution_count": 16,
     "metadata": {},
     "output_type": "execute_result"
    },
    {
     "data": {
      "image/png": "[encoded data removed]",
      "text/plain": [
       "<Figure size 720x360 with 1 Axes>"
      ]
     },
     "metadata": {},
     "output_type": "display_data"
    }
   ],
   "source": [
    "plt.figure(figsize=(10,5))\n",
    "stroke = df.loc[df['stroke']==1]\n",
    "sns.countplot(data=stroke,x='ever_married', palette=\"Set2\")\n",
    "plt.title(\"Stroke / Ever-Married\")"
   ]
  },
  {
   "cell_type": "markdown",
   "id": "every-orange",
   "metadata": {
    "papermill": {
     "duration": 0.055002,
     "end_time": "2021-03-18T11:21:58.324793",
     "exception": false,
     "start_time": "2021-03-18T11:21:58.269791",
     "status": "completed"
    },
    "tags": []
   },
   "source": [
    "**Looks like  the number of married people tend to have stroke significantly higher than single people\n",
    "!Interesting**"
   ]
  },
  {
   "cell_type": "code",
   "execution_count": 17,
   "id": "nasty-response",
   "metadata": {
    "execution": {
     "iopub.execute_input": "2021-03-18T11:21:58.464680Z",
     "iopub.status.busy": "2021-03-18T11:21:58.463826Z",
     "iopub.status.idle": "2021-03-18T11:21:58.614376Z",
     "shell.execute_reply": "2021-03-18T11:21:58.613762Z"
    },
    "papermill": {
     "duration": 0.23464,
     "end_time": "2021-03-18T11:21:58.614530",
     "exception": false,
     "start_time": "2021-03-18T11:21:58.379890",
     "status": "completed"
    },
    "tags": []
   },
   "outputs": [
    {
     "data": {
      "text/plain": [
       "Text(0.5, 1.0, 'Stroke / Work Type')"
      ]
     },
     "execution_count": 17,
     "metadata": {},
     "output_type": "execute_result"
    },
    {
     "data": {
      "image/png": "[encoded data removed]",
      "text/plain": [
       "<Figure size 720x360 with 1 Axes>"
      ]
     },
     "metadata": {},
     "output_type": "display_data"
    }
   ],
   "source": [
    "plt.figure(figsize=(10,5))\n",
    "stroke = df.loc[df['stroke']==1]\n",
    "sns.countplot(data=stroke,x='work_type', palette=\"Set2\")\n",
    "plt.title(\"Stroke / Work Type\")"
   ]
  },
  {
   "cell_type": "markdown",
   "id": "illegal-candidate",
   "metadata": {
    "papermill": {
     "duration": 0.056666,
     "end_time": "2021-03-18T11:21:58.727487",
     "exception": false,
     "start_time": "2021-03-18T11:21:58.670821",
     "status": "completed"
    },
    "tags": []
   },
   "source": [
    "* People in private sector has higher risk of having a stroke"
   ]
  },
  {
   "cell_type": "code",
   "execution_count": 18,
   "id": "patent-integration",
   "metadata": {
    "execution": {
     "iopub.execute_input": "2021-03-18T11:21:58.870982Z",
     "iopub.status.busy": "2021-03-18T11:21:58.868136Z",
     "iopub.status.idle": "2021-03-18T11:21:59.011193Z",
     "shell.execute_reply": "2021-03-18T11:21:59.010586Z"
    },
    "papermill": {
     "duration": 0.226815,
     "end_time": "2021-03-18T11:21:59.011389",
     "exception": false,
     "start_time": "2021-03-18T11:21:58.784574",
     "status": "completed"
    },
    "tags": []
   },
   "outputs": [
    {
     "data": {
      "text/plain": [
       "Text(0.5, 1.0, 'Stroke / Smoking Status')"
      ]
     },
     "execution_count": 18,
     "metadata": {},
     "output_type": "execute_result"
    },
    {
     "data": {
      "image/png": "[encoded data removed]",
      "text/plain": [
       "<Figure size 720x360 with 1 Axes>"
      ]
     },
     "metadata": {},
     "output_type": "display_data"
    }
   ],
   "source": [
    "plt.figure(figsize=(10,5))\n",
    "stroke = df.loc[df['stroke']==1]\n",
    "sns.countplot(data=stroke,x='smoking_status', palette=\"Set2\")\n",
    "plt.title(\"Stroke / Smoking Status\")"
   ]
  },
  {
   "cell_type": "markdown",
   "id": "under-diversity",
   "metadata": {
    "papermill": {
     "duration": 0.057957,
     "end_time": "2021-03-18T11:21:59.127758",
     "exception": false,
     "start_time": "2021-03-18T11:21:59.069801",
     "status": "completed"
    },
    "tags": []
   },
   "source": [
    "* In total of former smokers and currently smokers has the highest risk "
   ]
  },
  {
   "cell_type": "code",
   "execution_count": 19,
   "id": "logical-schema",
   "metadata": {
    "execution": {
     "iopub.execute_input": "2021-03-18T11:21:59.255679Z",
     "iopub.status.busy": "2021-03-18T11:21:59.251284Z",
     "iopub.status.idle": "2021-03-18T11:21:59.400046Z",
     "shell.execute_reply": "2021-03-18T11:21:59.399008Z"
    },
    "papermill": {
     "duration": 0.215161,
     "end_time": "2021-03-18T11:21:59.400201",
     "exception": false,
     "start_time": "2021-03-18T11:21:59.185040",
     "status": "completed"
    },
    "tags": []
   },
   "outputs": [
    {
     "data": {
      "text/plain": [
       "Text(0.5, 1.0, 'Stroke / Residence Type')"
      ]
     },
     "execution_count": 19,
     "metadata": {},
     "output_type": "execute_result"
    },
    {
     "data": {
      "image/png": "[encoded data removed]",
      "text/plain": [
       "<Figure size 720x360 with 1 Axes>"
      ]
     },
     "metadata": {},
     "output_type": "display_data"
    }
   ],
   "source": [
    "plt.figure(figsize=(10,5))\n",
    "stroke = df.loc[df['stroke']==1]\n",
    "sns.countplot(data=stroke,x='Residence_type', palette=\"Set2\")\n",
    "plt.title(\"Stroke / Residence Type\")"
   ]
  },
  {
   "cell_type": "markdown",
   "id": "municipal-dairy",
   "metadata": {
    "papermill": {
     "duration": 0.058157,
     "end_time": "2021-03-18T11:21:59.517282",
     "exception": false,
     "start_time": "2021-03-18T11:21:59.459125",
     "status": "completed"
    },
    "tags": []
   },
   "source": [
    "* Now we have a close distribution of rural and urban type of residence. Looks like it does not effect much"
   ]
  },
  {
   "cell_type": "code",
   "execution_count": 20,
   "id": "maritime-revelation",
   "metadata": {
    "execution": {
     "iopub.execute_input": "2021-03-18T11:21:59.644906Z",
     "iopub.status.busy": "2021-03-18T11:21:59.644166Z",
     "iopub.status.idle": "2021-03-18T11:21:59.893817Z",
     "shell.execute_reply": "2021-03-18T11:21:59.893175Z"
    },
    "papermill": {
     "duration": 0.31766,
     "end_time": "2021-03-18T11:21:59.893962",
     "exception": false,
     "start_time": "2021-03-18T11:21:59.576302",
     "status": "completed"
    },
    "tags": []
   },
   "outputs": [
    {
     "data": {
      "text/plain": [
       "Text(0.5, 1.0, 'Stroke / Hypertension')"
      ]
     },
     "execution_count": 20,
     "metadata": {},
     "output_type": "execute_result"
    },
    {
     "data": {
      "image/png": "[encoded data removed]",
      "text/plain": [
       "<Figure size 720x360 with 1 Axes>"
      ]
     },
     "metadata": {},
     "output_type": "display_data"
    }
   ],
   "source": [
    "plt.figure(figsize=(10,5))\n",
    "stroke = df.loc[df['stroke']==1]\n",
    "sns.countplot(data=stroke,x='hypertension', palette=\"Set2\")\n",
    "plt.title(\"Stroke / Hypertension\")"
   ]
  },
  {
   "cell_type": "markdown",
   "id": "accepting-agenda",
   "metadata": {
    "papermill": {
     "duration": 0.059771,
     "end_time": "2021-03-18T11:22:00.014918",
     "exception": false,
     "start_time": "2021-03-18T11:21:59.955147",
     "status": "completed"
    },
    "tags": []
   },
   "source": [
    "* People without hypertension has more risk to have a stroke"
   ]
  },
  {
   "cell_type": "code",
   "execution_count": 21,
   "id": "common-applicant",
   "metadata": {
    "execution": {
     "iopub.execute_input": "2021-03-18T11:22:00.163113Z",
     "iopub.status.busy": "2021-03-18T11:22:00.160504Z",
     "iopub.status.idle": "2021-03-18T11:22:00.301605Z",
     "shell.execute_reply": "2021-03-18T11:22:00.300847Z"
    },
    "papermill": {
     "duration": 0.226862,
     "end_time": "2021-03-18T11:22:00.301765",
     "exception": false,
     "start_time": "2021-03-18T11:22:00.074903",
     "status": "completed"
    },
    "tags": []
   },
   "outputs": [
    {
     "data": {
      "text/plain": [
       "Text(0.5, 1.0, 'Stroke / Heart Disease')"
      ]
     },
     "execution_count": 21,
     "metadata": {},
     "output_type": "execute_result"
    },
    {
     "data": {
      "image/png": "[encoded data removed]",
      "text/plain": [
       "<Figure size 720x360 with 1 Axes>"
      ]
     },
     "metadata": {},
     "output_type": "display_data"
    }
   ],
   "source": [
    "plt.figure(figsize=(10,5))\n",
    "stroke = df.loc[df['stroke']==1]\n",
    "sns.countplot(data=stroke,x='heart_disease', palette=\"Set2\")\n",
    "plt.title(\"Stroke / Heart Disease\")"
   ]
  },
  {
   "cell_type": "markdown",
   "id": "aquatic-respect",
   "metadata": {
    "papermill": {
     "duration": 0.061676,
     "end_time": "2021-03-18T11:22:00.425935",
     "exception": false,
     "start_time": "2021-03-18T11:22:00.364259",
     "status": "completed"
    },
    "tags": []
   },
   "source": [
    "* People without any previous heart disease has more risk to have a stroke"
   ]
  },
  {
   "cell_type": "code",
   "execution_count": 22,
   "id": "constant-honor",
   "metadata": {
    "execution": {
     "iopub.execute_input": "2021-03-18T11:22:00.631798Z",
     "iopub.status.busy": "2021-03-18T11:22:00.630335Z",
     "iopub.status.idle": "2021-03-18T11:22:01.950057Z",
     "shell.execute_reply": "2021-03-18T11:22:01.950541Z"
    },
    "papermill": {
     "duration": 1.462803,
     "end_time": "2021-03-18T11:22:01.950723",
     "exception": false,
     "start_time": "2021-03-18T11:22:00.487920",
     "status": "completed"
    },
    "tags": []
   },
   "outputs": [
    {
     "data": {
      "image/png": "[encoded data removed]",
      "text/plain": [
       "<Figure size 864x720 with 4 Axes>"
      ]
     },
     "metadata": {},
     "output_type": "display_data"
    }
   ],
   "source": [
    "fig, axes = plt.subplots(nrows=2, ncols=2, figsize=(12, 10))\n",
    "df.plot(kind=\"hist\", y=\"age\", bins=70, color=\"b\", ax=axes[0][0])\n",
    "df.plot(kind=\"hist\", y=\"bmi\", bins=100, color=\"r\", ax=axes[0][1])\n",
    "df.plot(kind=\"hist\", y=\"heart_disease\", bins=6, color=\"g\", ax=axes[1][0])\n",
    "df.plot(kind=\"hist\", y=\"avg_glucose_level\", bins=100, color=\"orange\", ax=axes[1][1])\n",
    "plt.show()"
   ]
  },
  {
   "cell_type": "code",
   "execution_count": 23,
   "id": "connected-spotlight",
   "metadata": {
    "execution": {
     "iopub.execute_input": "2021-03-18T11:22:02.108402Z",
     "iopub.status.busy": "2021-03-18T11:22:02.103265Z",
     "iopub.status.idle": "2021-03-18T11:22:02.510268Z",
     "shell.execute_reply": "2021-03-18T11:22:02.511161Z"
    },
    "papermill": {
     "duration": 0.498194,
     "end_time": "2021-03-18T11:22:02.511368",
     "exception": false,
     "start_time": "2021-03-18T11:22:02.013174",
     "status": "completed"
    },
    "tags": []
   },
   "outputs": [
    {
     "data": {
      "image/png": "[encoded data removed]",
      "text/plain": [
       "<Figure size 1080x360 with 2 Axes>"
      ]
     },
     "metadata": {},
     "output_type": "display_data"
    }
   ],
   "source": [
    "fig, axes = plt.subplots(nrows=1, ncols=2, figsize=(15, 5))\n",
    "df.plot(kind='scatter', x='age', y='avg_glucose_level', alpha=0.5, color='green', ax=axes[0], title=\"Age vs. avg_glucose_level\")\n",
    "df.plot(kind='scatter', x='bmi', y='avg_glucose_level', alpha=0.5, color='red', ax=axes[1], title=\"bmi vs. avg_glucose_level\")\n",
    "plt.show()"
   ]
  },
  {
   "cell_type": "markdown",
   "id": "verified-investor",
   "metadata": {
    "papermill": {
     "duration": 0.068318,
     "end_time": "2021-03-18T11:22:02.648506",
     "exception": false,
     "start_time": "2021-03-18T11:22:02.580188",
     "status": "completed"
    },
    "tags": []
   },
   "source": [
    "<a id=\"heatmap\"></a>\n",
    "# Heatmap"
   ]
  },
  {
   "cell_type": "code",
   "execution_count": 24,
   "id": "broke-reporter",
   "metadata": {
    "execution": {
     "iopub.execute_input": "2021-03-18T11:22:02.792293Z",
     "iopub.status.busy": "2021-03-18T11:22:02.791588Z",
     "iopub.status.idle": "2021-03-18T11:22:03.263743Z",
     "shell.execute_reply": "2021-03-18T11:22:03.264414Z"
    },
    "papermill": {
     "duration": 0.547715,
     "end_time": "2021-03-18T11:22:03.264669",
     "exception": false,
     "start_time": "2021-03-18T11:22:02.716954",
     "status": "completed"
    },
    "tags": []
   },
   "outputs": [
    {
     "data": {
      "image/png": "[encoded data removed]",
      "text/plain": [
       "<Figure size 720x720 with 2 Axes>"
      ]
     },
     "metadata": {},
     "output_type": "display_data"
    }
   ],
   "source": [
    "plt.figure(figsize=(10,10))\n",
    "sns.heatmap(df.corr(),annot=True);"
   ]
  },
  {
   "cell_type": "markdown",
   "id": "ruled-beast",
   "metadata": {
    "papermill": {
     "duration": 0.069644,
     "end_time": "2021-03-18T11:22:03.404819",
     "exception": false,
     "start_time": "2021-03-18T11:22:03.335175",
     "status": "completed"
    },
    "tags": []
   },
   "source": [
    "<a id=\"pairplot\"></a>\n",
    "# Pairplot"
   ]
  },
  {
   "cell_type": "code",
   "execution_count": 25,
   "id": "grave-treasure",
   "metadata": {
    "execution": {
     "iopub.execute_input": "2021-03-18T11:22:03.581663Z",
     "iopub.status.busy": "2021-03-18T11:22:03.554537Z",
     "iopub.status.idle": "2021-03-18T11:22:15.211423Z",
     "shell.execute_reply": "2021-03-18T11:22:15.211947Z"
    },
    "papermill": {
     "duration": 11.736734,
     "end_time": "2021-03-18T11:22:15.212123",
     "exception": false,
     "start_time": "2021-03-18T11:22:03.475389",
     "status": "completed"
    },
    "tags": []
   },
   "outputs": [
    {
     "data": {
      "image/png": "[encoded data removed]",
      "text/plain": [
       "<Figure size 946.6x900 with 30 Axes>"
      ]
     },
     "metadata": {},
     "output_type": "display_data"
    }
   ],
   "source": [
    "sns.set(style=\"ticks\");\n",
    "pal = [\"#FA5858\", \"#58D3F7\"]\n",
    "\n",
    "sns.pairplot(df, hue=\"stroke\", palette=pal);\n",
    "plt.title(\"stroke\");"
   ]
  },
  {
   "cell_type": "markdown",
   "id": "hundred-tissue",
   "metadata": {
    "papermill": {
     "duration": 0.077459,
     "end_time": "2021-03-18T11:22:15.368570",
     "exception": false,
     "start_time": "2021-03-18T11:22:15.291111",
     "status": "completed"
    },
    "tags": []
   },
   "source": [
    "<a id=\"prep\"></a>\n",
    "# Data Preprocessing"
   ]
  },
  {
   "cell_type": "markdown",
   "id": "discrete-breathing",
   "metadata": {
    "papermill": {
     "duration": 0.077169,
     "end_time": "2021-03-18T11:22:15.523580",
     "exception": false,
     "start_time": "2021-03-18T11:22:15.446411",
     "status": "completed"
    },
    "tags": []
   },
   "source": [
    "<a id=\"label\"></a>\n",
    "# Label Encoding"
   ]
  },
  {
   "cell_type": "code",
   "execution_count": 26,
   "id": "crazy-netscape",
   "metadata": {
    "execution": {
     "iopub.execute_input": "2021-03-18T11:22:15.684496Z",
     "iopub.status.busy": "2021-03-18T11:22:15.683434Z",
     "iopub.status.idle": "2021-03-18T11:22:15.688710Z",
     "shell.execute_reply": "2021-03-18T11:22:15.689162Z"
    },
    "papermill": {
     "duration": 0.088011,
     "end_time": "2021-03-18T11:22:15.689356",
     "exception": false,
     "start_time": "2021-03-18T11:22:15.601345",
     "status": "completed"
    },
    "tags": []
   },
   "outputs": [
    {
     "data": {
      "text/plain": [
       "array(['Urban', 'Rural'], dtype=object)"
      ]
     },
     "execution_count": 26,
     "metadata": {},
     "output_type": "execute_result"
    }
   ],
   "source": [
    "df['Residence_type'].unique()"
   ]
  },
  {
   "cell_type": "code",
   "execution_count": 27,
   "id": "failing-pharmacology",
   "metadata": {
    "execution": {
     "iopub.execute_input": "2021-03-18T11:22:15.854310Z",
     "iopub.status.busy": "2021-03-18T11:22:15.853327Z",
     "iopub.status.idle": "2021-03-18T11:22:15.857385Z",
     "shell.execute_reply": "2021-03-18T11:22:15.857988Z"
    },
    "papermill": {
     "duration": 0.090784,
     "end_time": "2021-03-18T11:22:15.858172",
     "exception": false,
     "start_time": "2021-03-18T11:22:15.767388",
     "status": "completed"
    },
    "tags": []
   },
   "outputs": [
    {
     "data": {
      "text/plain": [
       "array(['Yes', 'No'], dtype=object)"
      ]
     },
     "execution_count": 27,
     "metadata": {},
     "output_type": "execute_result"
    }
   ],
   "source": [
    "df['ever_married'].unique()"
   ]
  },
  {
   "cell_type": "code",
   "execution_count": 28,
   "id": "yellow-reply",
   "metadata": {
    "execution": {
     "iopub.execute_input": "2021-03-18T11:22:16.025938Z",
     "iopub.status.busy": "2021-03-18T11:22:16.025186Z",
     "iopub.status.idle": "2021-03-18T11:22:16.029630Z",
     "shell.execute_reply": "2021-03-18T11:22:16.029045Z"
    },
    "papermill": {
     "duration": 0.090464,
     "end_time": "2021-03-18T11:22:16.029786",
     "exception": false,
     "start_time": "2021-03-18T11:22:15.939322",
     "status": "completed"
    },
    "tags": []
   },
   "outputs": [],
   "source": [
    "residence_mapping = {'Urban': 0, 'Rural': 1}\n",
    "df['Residence_type'] = df['Residence_type'].map(residence_mapping)"
   ]
  },
  {
   "cell_type": "code",
   "execution_count": 29,
   "id": "comparable-friend",
   "metadata": {
    "execution": {
     "iopub.execute_input": "2021-03-18T11:22:16.197541Z",
     "iopub.status.busy": "2021-03-18T11:22:16.196489Z",
     "iopub.status.idle": "2021-03-18T11:22:16.199269Z",
     "shell.execute_reply": "2021-03-18T11:22:16.199771Z"
    },
    "papermill": {
     "duration": 0.090075,
     "end_time": "2021-03-18T11:22:16.199943",
     "exception": false,
     "start_time": "2021-03-18T11:22:16.109868",
     "status": "completed"
    },
    "tags": []
   },
   "outputs": [],
   "source": [
    "marriage_mapping = {'No': 0, 'Yes': 1}\n",
    "df['ever_married'] = df['ever_married'].map(marriage_mapping)"
   ]
  },
  {
   "cell_type": "code",
   "execution_count": 30,
   "id": "stopped-organ",
   "metadata": {
    "execution": {
     "iopub.execute_input": "2021-03-18T11:22:16.375564Z",
     "iopub.status.busy": "2021-03-18T11:22:16.374605Z",
     "iopub.status.idle": "2021-03-18T11:22:16.378254Z",
     "shell.execute_reply": "2021-03-18T11:22:16.378762Z"
    },
    "papermill": {
     "duration": 0.099827,
     "end_time": "2021-03-18T11:22:16.378933",
     "exception": false,
     "start_time": "2021-03-18T11:22:16.279106",
     "status": "completed"
    },
    "tags": []
   },
   "outputs": [
    {
     "data": {
      "text/html": [
       "<div>\n",
       "<style scoped>\n",
       "    .dataframe tbody tr th:only-of-type {\n",
       "        vertical-align: middle;\n",
       "    }\n",
       "\n",
       "    .dataframe tbody tr th {\n",
       "        vertical-align: top;\n",
       "    }\n",
       "\n",
       "    .dataframe thead th {\n",
       "        text-align: right;\n",
       "    }\n",
       "</style>\n",
       "<table border=\"1\" class=\"dataframe\">\n",
       "  <thead>\n",
       "    <tr style=\"text-align: right;\">\n",
       "      <th></th>\n",
       "      <th>gender</th>\n",
       "      <th>age</th>\n",
       "      <th>hypertension</th>\n",
       "      <th>heart_disease</th>\n",
       "      <th>ever_married</th>\n",
       "      <th>work_type</th>\n",
       "      <th>Residence_type</th>\n",
       "      <th>avg_glucose_level</th>\n",
       "      <th>bmi</th>\n",
       "      <th>smoking_status</th>\n",
       "      <th>stroke</th>\n",
       "    </tr>\n",
       "  </thead>\n",
       "  <tbody>\n",
       "    <tr>\n",
       "      <th>0</th>\n",
       "      <td>Male</td>\n",
       "      <td>67.0</td>\n",
       "      <td>0</td>\n",
       "      <td>1</td>\n",
       "      <td>1</td>\n",
       "      <td>Private</td>\n",
       "      <td>0</td>\n",
       "      <td>228.69</td>\n",
       "      <td>36.600000</td>\n",
       "      <td>formerly smoked</td>\n",
       "      <td>1</td>\n",
       "    </tr>\n",
       "    <tr>\n",
       "      <th>1</th>\n",
       "      <td>Female</td>\n",
       "      <td>61.0</td>\n",
       "      <td>0</td>\n",
       "      <td>0</td>\n",
       "      <td>1</td>\n",
       "      <td>Self-employed</td>\n",
       "      <td>1</td>\n",
       "      <td>202.21</td>\n",
       "      <td>28.893237</td>\n",
       "      <td>never smoked</td>\n",
       "      <td>1</td>\n",
       "    </tr>\n",
       "    <tr>\n",
       "      <th>2</th>\n",
       "      <td>Male</td>\n",
       "      <td>80.0</td>\n",
       "      <td>0</td>\n",
       "      <td>1</td>\n",
       "      <td>1</td>\n",
       "      <td>Private</td>\n",
       "      <td>1</td>\n",
       "      <td>105.92</td>\n",
       "      <td>32.500000</td>\n",
       "      <td>never smoked</td>\n",
       "      <td>1</td>\n",
       "    </tr>\n",
       "    <tr>\n",
       "      <th>3</th>\n",
       "      <td>Female</td>\n",
       "      <td>49.0</td>\n",
       "      <td>0</td>\n",
       "      <td>0</td>\n",
       "      <td>1</td>\n",
       "      <td>Private</td>\n",
       "      <td>0</td>\n",
       "      <td>171.23</td>\n",
       "      <td>34.400000</td>\n",
       "      <td>smokes</td>\n",
       "      <td>1</td>\n",
       "    </tr>\n",
       "    <tr>\n",
       "      <th>4</th>\n",
       "      <td>Female</td>\n",
       "      <td>79.0</td>\n",
       "      <td>1</td>\n",
       "      <td>0</td>\n",
       "      <td>1</td>\n",
       "      <td>Self-employed</td>\n",
       "      <td>1</td>\n",
       "      <td>174.12</td>\n",
       "      <td>24.000000</td>\n",
       "      <td>never smoked</td>\n",
       "      <td>1</td>\n",
       "    </tr>\n",
       "  </tbody>\n",
       "</table>\n",
       "</div>"
      ],
      "text/plain": [
       "   gender   age  hypertension  heart_disease  ever_married      work_type  \\\n",
       "0    Male  67.0             0              1             1        Private   \n",
       "1  Female  61.0             0              0             1  Self-employed   \n",
       "2    Male  80.0             0              1             1        Private   \n",
       "3  Female  49.0             0              0             1        Private   \n",
       "4  Female  79.0             1              0             1  Self-employed   \n",
       "\n",
       "   Residence_type  avg_glucose_level        bmi   smoking_status  stroke  \n",
       "0               0             228.69  36.600000  formerly smoked       1  \n",
       "1               1             202.21  28.893237     never smoked       1  \n",
       "2               1             105.92  32.500000     never smoked       1  \n",
       "3               0             171.23  34.400000           smokes       1  \n",
       "4               1             174.12  24.000000     never smoked       1  "
      ]
     },
     "execution_count": 30,
     "metadata": {},
     "output_type": "execute_result"
    }
   ],
   "source": [
    "df.head()"
   ]
  },
  {
   "cell_type": "markdown",
   "id": "fundamental-fitness",
   "metadata": {
    "papermill": {
     "duration": 0.079385,
     "end_time": "2021-03-18T11:22:16.537935",
     "exception": false,
     "start_time": "2021-03-18T11:22:16.458550",
     "status": "completed"
    },
    "tags": []
   },
   "source": [
    "<a id=\"ohe\"></a>\n",
    "# One-Hot-Encoding"
   ]
  },
  {
   "cell_type": "code",
   "execution_count": 31,
   "id": "written-virgin",
   "metadata": {
    "execution": {
     "iopub.execute_input": "2021-03-18T11:22:16.702392Z",
     "iopub.status.busy": "2021-03-18T11:22:16.701661Z",
     "iopub.status.idle": "2021-03-18T11:22:16.708946Z",
     "shell.execute_reply": "2021-03-18T11:22:16.708353Z"
    },
    "papermill": {
     "duration": 0.091176,
     "end_time": "2021-03-18T11:22:16.709085",
     "exception": false,
     "start_time": "2021-03-18T11:22:16.617909",
     "status": "completed"
    },
    "tags": []
   },
   "outputs": [
    {
     "data": {
      "text/plain": [
       "array(['Male', 'Female', 'Other'], dtype=object)"
      ]
     },
     "execution_count": 31,
     "metadata": {},
     "output_type": "execute_result"
    }
   ],
   "source": [
    "df['gender'].unique()"
   ]
  },
  {
   "cell_type": "code",
   "execution_count": 32,
   "id": "substantial-baptist",
   "metadata": {
    "execution": {
     "iopub.execute_input": "2021-03-18T11:22:16.877212Z",
     "iopub.status.busy": "2021-03-18T11:22:16.876405Z",
     "iopub.status.idle": "2021-03-18T11:22:16.882563Z",
     "shell.execute_reply": "2021-03-18T11:22:16.883043Z"
    },
    "papermill": {
     "duration": 0.092579,
     "end_time": "2021-03-18T11:22:16.883223",
     "exception": false,
     "start_time": "2021-03-18T11:22:16.790644",
     "status": "completed"
    },
    "tags": []
   },
   "outputs": [
    {
     "data": {
      "text/plain": [
       "array(['formerly smoked', 'never smoked', 'smokes', 'Unknown'],\n",
       "      dtype=object)"
      ]
     },
     "execution_count": 32,
     "metadata": {},
     "output_type": "execute_result"
    }
   ],
   "source": [
    "df['smoking_status'].unique()"
   ]
  },
  {
   "cell_type": "code",
   "execution_count": 33,
   "id": "relevant-framing",
   "metadata": {
    "execution": {
     "iopub.execute_input": "2021-03-18T11:22:17.088686Z",
     "iopub.status.busy": "2021-03-18T11:22:17.087743Z",
     "iopub.status.idle": "2021-03-18T11:22:17.093343Z",
     "shell.execute_reply": "2021-03-18T11:22:17.093828Z"
    },
    "papermill": {
     "duration": 0.100111,
     "end_time": "2021-03-18T11:22:17.094021",
     "exception": false,
     "start_time": "2021-03-18T11:22:16.993910",
     "status": "completed"
    },
    "tags": []
   },
   "outputs": [
    {
     "data": {
      "text/plain": [
       "array(['Private', 'Self-employed', 'Govt_job', 'children', 'Never_worked'],\n",
       "      dtype=object)"
      ]
     },
     "execution_count": 33,
     "metadata": {},
     "output_type": "execute_result"
    }
   ],
   "source": [
    "df['work_type'].unique()"
   ]
  },
  {
   "cell_type": "code",
   "execution_count": 34,
   "id": "under-hybrid",
   "metadata": {
    "execution": {
     "iopub.execute_input": "2021-03-18T11:22:17.261753Z",
     "iopub.status.busy": "2021-03-18T11:22:17.260759Z",
     "iopub.status.idle": "2021-03-18T11:22:17.264162Z",
     "shell.execute_reply": "2021-03-18T11:22:17.263508Z"
    },
    "papermill": {
     "duration": 0.088884,
     "end_time": "2021-03-18T11:22:17.264345",
     "exception": false,
     "start_time": "2021-03-18T11:22:17.175461",
     "status": "completed"
    },
    "tags": []
   },
   "outputs": [],
   "source": [
    "ohe = OneHotEncoder()"
   ]
  },
  {
   "cell_type": "code",
   "execution_count": 35,
   "id": "romance-brisbane",
   "metadata": {
    "execution": {
     "iopub.execute_input": "2021-03-18T11:22:17.431934Z",
     "iopub.status.busy": "2021-03-18T11:22:17.430896Z",
     "iopub.status.idle": "2021-03-18T11:22:17.446285Z",
     "shell.execute_reply": "2021-03-18T11:22:17.446840Z"
    },
    "papermill": {
     "duration": 0.100465,
     "end_time": "2021-03-18T11:22:17.447028",
     "exception": false,
     "start_time": "2021-03-18T11:22:17.346563",
     "status": "completed"
    },
    "tags": []
   },
   "outputs": [
    {
     "data": {
      "text/html": [
       "<div>\n",
       "<style scoped>\n",
       "    .dataframe tbody tr th:only-of-type {\n",
       "        vertical-align: middle;\n",
       "    }\n",
       "\n",
       "    .dataframe tbody tr th {\n",
       "        vertical-align: top;\n",
       "    }\n",
       "\n",
       "    .dataframe thead th {\n",
       "        text-align: right;\n",
       "    }\n",
       "</style>\n",
       "<table border=\"1\" class=\"dataframe\">\n",
       "  <thead>\n",
       "    <tr style=\"text-align: right;\">\n",
       "      <th></th>\n",
       "      <th>gender_encoded_Female</th>\n",
       "      <th>gender_encoded_Male</th>\n",
       "      <th>gender_encoded_Other</th>\n",
       "    </tr>\n",
       "  </thead>\n",
       "  <tbody>\n",
       "    <tr>\n",
       "      <th>0</th>\n",
       "      <td>0</td>\n",
       "      <td>1</td>\n",
       "      <td>0</td>\n",
       "    </tr>\n",
       "    <tr>\n",
       "      <th>1</th>\n",
       "      <td>1</td>\n",
       "      <td>0</td>\n",
       "      <td>0</td>\n",
       "    </tr>\n",
       "    <tr>\n",
       "      <th>2</th>\n",
       "      <td>0</td>\n",
       "      <td>1</td>\n",
       "      <td>0</td>\n",
       "    </tr>\n",
       "    <tr>\n",
       "      <th>3</th>\n",
       "      <td>1</td>\n",
       "      <td>0</td>\n",
       "      <td>0</td>\n",
       "    </tr>\n",
       "    <tr>\n",
       "      <th>4</th>\n",
       "      <td>1</td>\n",
       "      <td>0</td>\n",
       "      <td>0</td>\n",
       "    </tr>\n",
       "    <tr>\n",
       "      <th>...</th>\n",
       "      <td>...</td>\n",
       "      <td>...</td>\n",
       "      <td>...</td>\n",
       "    </tr>\n",
       "    <tr>\n",
       "      <th>5105</th>\n",
       "      <td>1</td>\n",
       "      <td>0</td>\n",
       "      <td>0</td>\n",
       "    </tr>\n",
       "    <tr>\n",
       "      <th>5106</th>\n",
       "      <td>1</td>\n",
       "      <td>0</td>\n",
       "      <td>0</td>\n",
       "    </tr>\n",
       "    <tr>\n",
       "      <th>5107</th>\n",
       "      <td>1</td>\n",
       "      <td>0</td>\n",
       "      <td>0</td>\n",
       "    </tr>\n",
       "    <tr>\n",
       "      <th>5108</th>\n",
       "      <td>0</td>\n",
       "      <td>1</td>\n",
       "      <td>0</td>\n",
       "    </tr>\n",
       "    <tr>\n",
       "      <th>5109</th>\n",
       "      <td>1</td>\n",
       "      <td>0</td>\n",
       "      <td>0</td>\n",
       "    </tr>\n",
       "  </tbody>\n",
       "</table>\n",
       "<p>5110 rows × 3 columns</p>\n",
       "</div>"
      ],
      "text/plain": [
       "      gender_encoded_Female  gender_encoded_Male  gender_encoded_Other\n",
       "0                         0                    1                     0\n",
       "1                         1                    0                     0\n",
       "2                         0                    1                     0\n",
       "3                         1                    0                     0\n",
       "4                         1                    0                     0\n",
       "...                     ...                  ...                   ...\n",
       "5105                      1                    0                     0\n",
       "5106                      1                    0                     0\n",
       "5107                      1                    0                     0\n",
       "5108                      0                    1                     0\n",
       "5109                      1                    0                     0\n",
       "\n",
       "[5110 rows x 3 columns]"
      ]
     },
     "execution_count": 35,
     "metadata": {},
     "output_type": "execute_result"
    }
   ],
   "source": [
    "df['gender'] = pd.Categorical(df['gender'])\n",
    "dfDummies_gender = pd.get_dummies(df['gender'], prefix = 'gender_encoded')\n",
    "dfDummies_gender"
   ]
  },
  {
   "cell_type": "code",
   "execution_count": 36,
   "id": "proof-signal",
   "metadata": {
    "execution": {
     "iopub.execute_input": "2021-03-18T11:22:17.616728Z",
     "iopub.status.busy": "2021-03-18T11:22:17.615653Z",
     "iopub.status.idle": "2021-03-18T11:22:17.632825Z",
     "shell.execute_reply": "2021-03-18T11:22:17.632134Z"
    },
    "papermill": {
     "duration": 0.103209,
     "end_time": "2021-03-18T11:22:17.632966",
     "exception": false,
     "start_time": "2021-03-18T11:22:17.529757",
     "status": "completed"
    },
    "tags": []
   },
   "outputs": [
    {
     "data": {
      "text/html": [
       "<div>\n",
       "<style scoped>\n",
       "    .dataframe tbody tr th:only-of-type {\n",
       "        vertical-align: middle;\n",
       "    }\n",
       "\n",
       "    .dataframe tbody tr th {\n",
       "        vertical-align: top;\n",
       "    }\n",
       "\n",
       "    .dataframe thead th {\n",
       "        text-align: right;\n",
       "    }\n",
       "</style>\n",
       "<table border=\"1\" class=\"dataframe\">\n",
       "  <thead>\n",
       "    <tr style=\"text-align: right;\">\n",
       "      <th></th>\n",
       "      <th>smoking_status_encoded_Unknown</th>\n",
       "      <th>smoking_status_encoded_formerly smoked</th>\n",
       "      <th>smoking_status_encoded_never smoked</th>\n",
       "      <th>smoking_status_encoded_smokes</th>\n",
       "    </tr>\n",
       "  </thead>\n",
       "  <tbody>\n",
       "    <tr>\n",
       "      <th>0</th>\n",
       "      <td>0</td>\n",
       "      <td>1</td>\n",
       "      <td>0</td>\n",
       "      <td>0</td>\n",
       "    </tr>\n",
       "    <tr>\n",
       "      <th>1</th>\n",
       "      <td>0</td>\n",
       "      <td>0</td>\n",
       "      <td>1</td>\n",
       "      <td>0</td>\n",
       "    </tr>\n",
       "    <tr>\n",
       "      <th>2</th>\n",
       "      <td>0</td>\n",
       "      <td>0</td>\n",
       "      <td>1</td>\n",
       "      <td>0</td>\n",
       "    </tr>\n",
       "    <tr>\n",
       "      <th>3</th>\n",
       "      <td>0</td>\n",
       "      <td>0</td>\n",
       "      <td>0</td>\n",
       "      <td>1</td>\n",
       "    </tr>\n",
       "    <tr>\n",
       "      <th>4</th>\n",
       "      <td>0</td>\n",
       "      <td>0</td>\n",
       "      <td>1</td>\n",
       "      <td>0</td>\n",
       "    </tr>\n",
       "    <tr>\n",
       "      <th>...</th>\n",
       "      <td>...</td>\n",
       "      <td>...</td>\n",
       "      <td>...</td>\n",
       "      <td>...</td>\n",
       "    </tr>\n",
       "    <tr>\n",
       "      <th>5105</th>\n",
       "      <td>0</td>\n",
       "      <td>0</td>\n",
       "      <td>1</td>\n",
       "      <td>0</td>\n",
       "    </tr>\n",
       "    <tr>\n",
       "      <th>5106</th>\n",
       "      <td>0</td>\n",
       "      <td>0</td>\n",
       "      <td>1</td>\n",
       "      <td>0</td>\n",
       "    </tr>\n",
       "    <tr>\n",
       "      <th>5107</th>\n",
       "      <td>0</td>\n",
       "      <td>0</td>\n",
       "      <td>1</td>\n",
       "      <td>0</td>\n",
       "    </tr>\n",
       "    <tr>\n",
       "      <th>5108</th>\n",
       "      <td>0</td>\n",
       "      <td>1</td>\n",
       "      <td>0</td>\n",
       "      <td>0</td>\n",
       "    </tr>\n",
       "    <tr>\n",
       "      <th>5109</th>\n",
       "      <td>1</td>\n",
       "      <td>0</td>\n",
       "      <td>0</td>\n",
       "      <td>0</td>\n",
       "    </tr>\n",
       "  </tbody>\n",
       "</table>\n",
       "<p>5110 rows × 4 columns</p>\n",
       "</div>"
      ],
      "text/plain": [
       "      smoking_status_encoded_Unknown  smoking_status_encoded_formerly smoked  \\\n",
       "0                                  0                                       1   \n",
       "1                                  0                                       0   \n",
       "2                                  0                                       0   \n",
       "3                                  0                                       0   \n",
       "4                                  0                                       0   \n",
       "...                              ...                                     ...   \n",
       "5105                               0                                       0   \n",
       "5106                               0                                       0   \n",
       "5107                               0                                       0   \n",
       "5108                               0                                       1   \n",
       "5109                               1                                       0   \n",
       "\n",
       "      smoking_status_encoded_never smoked  smoking_status_encoded_smokes  \n",
       "0                                       0                              0  \n",
       "1                                       1                              0  \n",
       "2                                       1                              0  \n",
       "3                                       0                              1  \n",
       "4                                       1                              0  \n",
       "...                                   ...                            ...  \n",
       "5105                                    1                              0  \n",
       "5106                                    1                              0  \n",
       "5107                                    1                              0  \n",
       "5108                                    0                              0  \n",
       "5109                                    0                              0  \n",
       "\n",
       "[5110 rows x 4 columns]"
      ]
     },
     "execution_count": 36,
     "metadata": {},
     "output_type": "execute_result"
    }
   ],
   "source": [
    "df['smoking_status'] = pd.Categorical(df['smoking_status'])\n",
    "dfDummies_smoking_status = pd.get_dummies(df['smoking_status'], prefix = 'smoking_status_encoded')\n",
    "dfDummies_smoking_status"
   ]
  },
  {
   "cell_type": "code",
   "execution_count": 37,
   "id": "chubby-neighbor",
   "metadata": {
    "execution": {
     "iopub.execute_input": "2021-03-18T11:22:17.816870Z",
     "iopub.status.busy": "2021-03-18T11:22:17.806000Z",
     "iopub.status.idle": "2021-03-18T11:22:17.820722Z",
     "shell.execute_reply": "2021-03-18T11:22:17.821218Z"
    },
    "papermill": {
     "duration": 0.104894,
     "end_time": "2021-03-18T11:22:17.821408",
     "exception": false,
     "start_time": "2021-03-18T11:22:17.716514",
     "status": "completed"
    },
    "tags": []
   },
   "outputs": [
    {
     "data": {
      "text/html": [
       "<div>\n",
       "<style scoped>\n",
       "    .dataframe tbody tr th:only-of-type {\n",
       "        vertical-align: middle;\n",
       "    }\n",
       "\n",
       "    .dataframe tbody tr th {\n",
       "        vertical-align: top;\n",
       "    }\n",
       "\n",
       "    .dataframe thead th {\n",
       "        text-align: right;\n",
       "    }\n",
       "</style>\n",
       "<table border=\"1\" class=\"dataframe\">\n",
       "  <thead>\n",
       "    <tr style=\"text-align: right;\">\n",
       "      <th></th>\n",
       "      <th>work_type_encoded_Govt_job</th>\n",
       "      <th>work_type_encoded_Never_worked</th>\n",
       "      <th>work_type_encoded_Private</th>\n",
       "      <th>work_type_encoded_Self-employed</th>\n",
       "      <th>work_type_encoded_children</th>\n",
       "    </tr>\n",
       "  </thead>\n",
       "  <tbody>\n",
       "    <tr>\n",
       "      <th>0</th>\n",
       "      <td>0</td>\n",
       "      <td>0</td>\n",
       "      <td>1</td>\n",
       "      <td>0</td>\n",
       "      <td>0</td>\n",
       "    </tr>\n",
       "    <tr>\n",
       "      <th>1</th>\n",
       "      <td>0</td>\n",
       "      <td>0</td>\n",
       "      <td>0</td>\n",
       "      <td>1</td>\n",
       "      <td>0</td>\n",
       "    </tr>\n",
       "    <tr>\n",
       "      <th>2</th>\n",
       "      <td>0</td>\n",
       "      <td>0</td>\n",
       "      <td>1</td>\n",
       "      <td>0</td>\n",
       "      <td>0</td>\n",
       "    </tr>\n",
       "    <tr>\n",
       "      <th>3</th>\n",
       "      <td>0</td>\n",
       "      <td>0</td>\n",
       "      <td>1</td>\n",
       "      <td>0</td>\n",
       "      <td>0</td>\n",
       "    </tr>\n",
       "    <tr>\n",
       "      <th>4</th>\n",
       "      <td>0</td>\n",
       "      <td>0</td>\n",
       "      <td>0</td>\n",
       "      <td>1</td>\n",
       "      <td>0</td>\n",
       "    </tr>\n",
       "    <tr>\n",
       "      <th>...</th>\n",
       "      <td>...</td>\n",
       "      <td>...</td>\n",
       "      <td>...</td>\n",
       "      <td>...</td>\n",
       "      <td>...</td>\n",
       "    </tr>\n",
       "    <tr>\n",
       "      <th>5105</th>\n",
       "      <td>0</td>\n",
       "      <td>0</td>\n",
       "      <td>1</td>\n",
       "      <td>0</td>\n",
       "      <td>0</td>\n",
       "    </tr>\n",
       "    <tr>\n",
       "      <th>5106</th>\n",
       "      <td>0</td>\n",
       "      <td>0</td>\n",
       "      <td>0</td>\n",
       "      <td>1</td>\n",
       "      <td>0</td>\n",
       "    </tr>\n",
       "    <tr>\n",
       "      <th>5107</th>\n",
       "      <td>0</td>\n",
       "      <td>0</td>\n",
       "      <td>0</td>\n",
       "      <td>1</td>\n",
       "      <td>0</td>\n",
       "    </tr>\n",
       "    <tr>\n",
       "      <th>5108</th>\n",
       "      <td>0</td>\n",
       "      <td>0</td>\n",
       "      <td>1</td>\n",
       "      <td>0</td>\n",
       "      <td>0</td>\n",
       "    </tr>\n",
       "    <tr>\n",
       "      <th>5109</th>\n",
       "      <td>1</td>\n",
       "      <td>0</td>\n",
       "      <td>0</td>\n",
       "      <td>0</td>\n",
       "      <td>0</td>\n",
       "    </tr>\n",
       "  </tbody>\n",
       "</table>\n",
       "<p>5110 rows × 5 columns</p>\n",
       "</div>"
      ],
      "text/plain": [
       "      work_type_encoded_Govt_job  work_type_encoded_Never_worked  \\\n",
       "0                              0                               0   \n",
       "1                              0                               0   \n",
       "2                              0                               0   \n",
       "3                              0                               0   \n",
       "4                              0                               0   \n",
       "...                          ...                             ...   \n",
       "5105                           0                               0   \n",
       "5106                           0                               0   \n",
       "5107                           0                               0   \n",
       "5108                           0                               0   \n",
       "5109                           1                               0   \n",
       "\n",
       "      work_type_encoded_Private  work_type_encoded_Self-employed  \\\n",
       "0                             1                                0   \n",
       "1                             0                                1   \n",
       "2                             1                                0   \n",
       "3                             1                                0   \n",
       "4                             0                                1   \n",
       "...                         ...                              ...   \n",
       "5105                          1                                0   \n",
       "5106                          0                                1   \n",
       "5107                          0                                1   \n",
       "5108                          1                                0   \n",
       "5109                          0                                0   \n",
       "\n",
       "      work_type_encoded_children  \n",
       "0                              0  \n",
       "1                              0  \n",
       "2                              0  \n",
       "3                              0  \n",
       "4                              0  \n",
       "...                          ...  \n",
       "5105                           0  \n",
       "5106                           0  \n",
       "5107                           0  \n",
       "5108                           0  \n",
       "5109                           0  \n",
       "\n",
       "[5110 rows x 5 columns]"
      ]
     },
     "execution_count": 37,
     "metadata": {},
     "output_type": "execute_result"
    }
   ],
   "source": [
    "df['work_type'] = pd.Categorical(df['work_type'])\n",
    "dfDummies_work_type = pd.get_dummies(df['work_type'], prefix = 'work_type_encoded')\n",
    "dfDummies_work_type"
   ]
  },
  {
   "cell_type": "code",
   "execution_count": 38,
   "id": "boring-indianapolis",
   "metadata": {
    "execution": {
     "iopub.execute_input": "2021-03-18T11:22:17.995090Z",
     "iopub.status.busy": "2021-03-18T11:22:17.994397Z",
     "iopub.status.idle": "2021-03-18T11:22:18.002762Z",
     "shell.execute_reply": "2021-03-18T11:22:18.003286Z"
    },
    "papermill": {
     "duration": 0.09778,
     "end_time": "2021-03-18T11:22:18.003487",
     "exception": false,
     "start_time": "2021-03-18T11:22:17.905707",
     "status": "completed"
    },
    "tags": []
   },
   "outputs": [],
   "source": [
    "df.drop(\"gender\", axis=1, inplace=True)\n",
    "df.drop(\"work_type\", axis=1, inplace=True)\n",
    "df.drop(\"smoking_status\", axis=1, inplace=True)"
   ]
  },
  {
   "cell_type": "code",
   "execution_count": 39,
   "id": "derived-announcement",
   "metadata": {
    "execution": {
     "iopub.execute_input": "2021-03-18T11:22:18.180393Z",
     "iopub.status.busy": "2021-03-18T11:22:18.179656Z",
     "iopub.status.idle": "2021-03-18T11:22:18.211695Z",
     "shell.execute_reply": "2021-03-18T11:22:18.211037Z"
    },
    "papermill": {
     "duration": 0.123226,
     "end_time": "2021-03-18T11:22:18.211834",
     "exception": false,
     "start_time": "2021-03-18T11:22:18.088608",
     "status": "completed"
    },
    "tags": []
   },
   "outputs": [
    {
     "data": {
      "text/html": [
       "<div>\n",
       "<style scoped>\n",
       "    .dataframe tbody tr th:only-of-type {\n",
       "        vertical-align: middle;\n",
       "    }\n",
       "\n",
       "    .dataframe tbody tr th {\n",
       "        vertical-align: top;\n",
       "    }\n",
       "\n",
       "    .dataframe thead th {\n",
       "        text-align: right;\n",
       "    }\n",
       "</style>\n",
       "<table border=\"1\" class=\"dataframe\">\n",
       "  <thead>\n",
       "    <tr style=\"text-align: right;\">\n",
       "      <th></th>\n",
       "      <th>age</th>\n",
       "      <th>hypertension</th>\n",
       "      <th>heart_disease</th>\n",
       "      <th>ever_married</th>\n",
       "      <th>Residence_type</th>\n",
       "      <th>avg_glucose_level</th>\n",
       "      <th>bmi</th>\n",
       "      <th>stroke</th>\n",
       "      <th>gender_encoded_Female</th>\n",
       "      <th>gender_encoded_Male</th>\n",
       "      <th>gender_encoded_Other</th>\n",
       "      <th>work_type_encoded_Govt_job</th>\n",
       "      <th>work_type_encoded_Never_worked</th>\n",
       "      <th>work_type_encoded_Private</th>\n",
       "      <th>work_type_encoded_Self-employed</th>\n",
       "      <th>work_type_encoded_children</th>\n",
       "      <th>smoking_status_encoded_Unknown</th>\n",
       "      <th>smoking_status_encoded_formerly smoked</th>\n",
       "      <th>smoking_status_encoded_never smoked</th>\n",
       "      <th>smoking_status_encoded_smokes</th>\n",
       "    </tr>\n",
       "  </thead>\n",
       "  <tbody>\n",
       "    <tr>\n",
       "      <th>0</th>\n",
       "      <td>67.0</td>\n",
       "      <td>0</td>\n",
       "      <td>1</td>\n",
       "      <td>1</td>\n",
       "      <td>0</td>\n",
       "      <td>228.69</td>\n",
       "      <td>36.600000</td>\n",
       "      <td>1</td>\n",
       "      <td>0</td>\n",
       "      <td>1</td>\n",
       "      <td>0</td>\n",
       "      <td>0</td>\n",
       "      <td>0</td>\n",
       "      <td>1</td>\n",
       "      <td>0</td>\n",
       "      <td>0</td>\n",
       "      <td>0</td>\n",
       "      <td>1</td>\n",
       "      <td>0</td>\n",
       "      <td>0</td>\n",
       "    </tr>\n",
       "    <tr>\n",
       "      <th>1</th>\n",
       "      <td>61.0</td>\n",
       "      <td>0</td>\n",
       "      <td>0</td>\n",
       "      <td>1</td>\n",
       "      <td>1</td>\n",
       "      <td>202.21</td>\n",
       "      <td>28.893237</td>\n",
       "      <td>1</td>\n",
       "      <td>1</td>\n",
       "      <td>0</td>\n",
       "      <td>0</td>\n",
       "      <td>0</td>\n",
       "      <td>0</td>\n",
       "      <td>0</td>\n",
       "      <td>1</td>\n",
       "      <td>0</td>\n",
       "      <td>0</td>\n",
       "      <td>0</td>\n",
       "      <td>1</td>\n",
       "      <td>0</td>\n",
       "    </tr>\n",
       "    <tr>\n",
       "      <th>2</th>\n",
       "      <td>80.0</td>\n",
       "      <td>0</td>\n",
       "      <td>1</td>\n",
       "      <td>1</td>\n",
       "      <td>1</td>\n",
       "      <td>105.92</td>\n",
       "      <td>32.500000</td>\n",
       "      <td>1</td>\n",
       "      <td>0</td>\n",
       "      <td>1</td>\n",
       "      <td>0</td>\n",
       "      <td>0</td>\n",
       "      <td>0</td>\n",
       "      <td>1</td>\n",
       "      <td>0</td>\n",
       "      <td>0</td>\n",
       "      <td>0</td>\n",
       "      <td>0</td>\n",
       "      <td>1</td>\n",
       "      <td>0</td>\n",
       "    </tr>\n",
       "    <tr>\n",
       "      <th>3</th>\n",
       "      <td>49.0</td>\n",
       "      <td>0</td>\n",
       "      <td>0</td>\n",
       "      <td>1</td>\n",
       "      <td>0</td>\n",
       "      <td>171.23</td>\n",
       "      <td>34.400000</td>\n",
       "      <td>1</td>\n",
       "      <td>1</td>\n",
       "      <td>0</td>\n",
       "      <td>0</td>\n",
       "      <td>0</td>\n",
       "      <td>0</td>\n",
       "      <td>1</td>\n",
       "      <td>0</td>\n",
       "      <td>0</td>\n",
       "      <td>0</td>\n",
       "      <td>0</td>\n",
       "      <td>0</td>\n",
       "      <td>1</td>\n",
       "    </tr>\n",
       "    <tr>\n",
       "      <th>4</th>\n",
       "      <td>79.0</td>\n",
       "      <td>1</td>\n",
       "      <td>0</td>\n",
       "      <td>1</td>\n",
       "      <td>1</td>\n",
       "      <td>174.12</td>\n",
       "      <td>24.000000</td>\n",
       "      <td>1</td>\n",
       "      <td>1</td>\n",
       "      <td>0</td>\n",
       "      <td>0</td>\n",
       "      <td>0</td>\n",
       "      <td>0</td>\n",
       "      <td>0</td>\n",
       "      <td>1</td>\n",
       "      <td>0</td>\n",
       "      <td>0</td>\n",
       "      <td>0</td>\n",
       "      <td>1</td>\n",
       "      <td>0</td>\n",
       "    </tr>\n",
       "    <tr>\n",
       "      <th>...</th>\n",
       "      <td>...</td>\n",
       "      <td>...</td>\n",
       "      <td>...</td>\n",
       "      <td>...</td>\n",
       "      <td>...</td>\n",
       "      <td>...</td>\n",
       "      <td>...</td>\n",
       "      <td>...</td>\n",
       "      <td>...</td>\n",
       "      <td>...</td>\n",
       "      <td>...</td>\n",
       "      <td>...</td>\n",
       "      <td>...</td>\n",
       "      <td>...</td>\n",
       "      <td>...</td>\n",
       "      <td>...</td>\n",
       "      <td>...</td>\n",
       "      <td>...</td>\n",
       "      <td>...</td>\n",
       "      <td>...</td>\n",
       "    </tr>\n",
       "    <tr>\n",
       "      <th>5105</th>\n",
       "      <td>80.0</td>\n",
       "      <td>1</td>\n",
       "      <td>0</td>\n",
       "      <td>1</td>\n",
       "      <td>0</td>\n",
       "      <td>83.75</td>\n",
       "      <td>28.893237</td>\n",
       "      <td>0</td>\n",
       "      <td>1</td>\n",
       "      <td>0</td>\n",
       "      <td>0</td>\n",
       "      <td>0</td>\n",
       "      <td>0</td>\n",
       "      <td>1</td>\n",
       "      <td>0</td>\n",
       "      <td>0</td>\n",
       "      <td>0</td>\n",
       "      <td>0</td>\n",
       "      <td>1</td>\n",
       "      <td>0</td>\n",
       "    </tr>\n",
       "    <tr>\n",
       "      <th>5106</th>\n",
       "      <td>81.0</td>\n",
       "      <td>0</td>\n",
       "      <td>0</td>\n",
       "      <td>1</td>\n",
       "      <td>0</td>\n",
       "      <td>125.20</td>\n",
       "      <td>40.000000</td>\n",
       "      <td>0</td>\n",
       "      <td>1</td>\n",
       "      <td>0</td>\n",
       "      <td>0</td>\n",
       "      <td>0</td>\n",
       "      <td>0</td>\n",
       "      <td>0</td>\n",
       "      <td>1</td>\n",
       "      <td>0</td>\n",
       "      <td>0</td>\n",
       "      <td>0</td>\n",
       "      <td>1</td>\n",
       "      <td>0</td>\n",
       "    </tr>\n",
       "    <tr>\n",
       "      <th>5107</th>\n",
       "      <td>35.0</td>\n",
       "      <td>0</td>\n",
       "      <td>0</td>\n",
       "      <td>1</td>\n",
       "      <td>1</td>\n",
       "      <td>82.99</td>\n",
       "      <td>30.600000</td>\n",
       "      <td>0</td>\n",
       "      <td>1</td>\n",
       "      <td>0</td>\n",
       "      <td>0</td>\n",
       "      <td>0</td>\n",
       "      <td>0</td>\n",
       "      <td>0</td>\n",
       "      <td>1</td>\n",
       "      <td>0</td>\n",
       "      <td>0</td>\n",
       "      <td>0</td>\n",
       "      <td>1</td>\n",
       "      <td>0</td>\n",
       "    </tr>\n",
       "    <tr>\n",
       "      <th>5108</th>\n",
       "      <td>51.0</td>\n",
       "      <td>0</td>\n",
       "      <td>0</td>\n",
       "      <td>1</td>\n",
       "      <td>1</td>\n",
       "      <td>166.29</td>\n",
       "      <td>25.600000</td>\n",
       "      <td>0</td>\n",
       "      <td>0</td>\n",
       "      <td>1</td>\n",
       "      <td>0</td>\n",
       "      <td>0</td>\n",
       "      <td>0</td>\n",
       "      <td>1</td>\n",
       "      <td>0</td>\n",
       "      <td>0</td>\n",
       "      <td>0</td>\n",
       "      <td>1</td>\n",
       "      <td>0</td>\n",
       "      <td>0</td>\n",
       "    </tr>\n",
       "    <tr>\n",
       "      <th>5109</th>\n",
       "      <td>44.0</td>\n",
       "      <td>0</td>\n",
       "      <td>0</td>\n",
       "      <td>1</td>\n",
       "      <td>0</td>\n",
       "      <td>85.28</td>\n",
       "      <td>26.200000</td>\n",
       "      <td>0</td>\n",
       "      <td>1</td>\n",
       "      <td>0</td>\n",
       "      <td>0</td>\n",
       "      <td>1</td>\n",
       "      <td>0</td>\n",
       "      <td>0</td>\n",
       "      <td>0</td>\n",
       "      <td>0</td>\n",
       "      <td>1</td>\n",
       "      <td>0</td>\n",
       "      <td>0</td>\n",
       "      <td>0</td>\n",
       "    </tr>\n",
       "  </tbody>\n",
       "</table>\n",
       "<p>5110 rows × 20 columns</p>\n",
       "</div>"
      ],
      "text/plain": [
       "       age  hypertension  heart_disease  ever_married  Residence_type  \\\n",
       "0     67.0             0              1             1               0   \n",
       "1     61.0             0              0             1               1   \n",
       "2     80.0             0              1             1               1   \n",
       "3     49.0             0              0             1               0   \n",
       "4     79.0             1              0             1               1   \n",
       "...    ...           ...            ...           ...             ...   \n",
       "5105  80.0             1              0             1               0   \n",
       "5106  81.0             0              0             1               0   \n",
       "5107  35.0             0              0             1               1   \n",
       "5108  51.0             0              0             1               1   \n",
       "5109  44.0             0              0             1               0   \n",
       "\n",
       "      avg_glucose_level        bmi  stroke  gender_encoded_Female  \\\n",
       "0                228.69  36.600000       1                      0   \n",
       "1                202.21  28.893237       1                      1   \n",
       "2                105.92  32.500000       1                      0   \n",
       "3                171.23  34.400000       1                      1   \n",
       "4                174.12  24.000000       1                      1   \n",
       "...                 ...        ...     ...                    ...   \n",
       "5105              83.75  28.893237       0                      1   \n",
       "5106             125.20  40.000000       0                      1   \n",
       "5107              82.99  30.600000       0                      1   \n",
       "5108             166.29  25.600000       0                      0   \n",
       "5109              85.28  26.200000       0                      1   \n",
       "\n",
       "      gender_encoded_Male  gender_encoded_Other  work_type_encoded_Govt_job  \\\n",
       "0                       1                     0                           0   \n",
       "1                       0                     0                           0   \n",
       "2                       1                     0                           0   \n",
       "3                       0                     0                           0   \n",
       "4                       0                     0                           0   \n",
       "...                   ...                   ...                         ...   \n",
       "5105                    0                     0                           0   \n",
       "5106                    0                     0                           0   \n",
       "5107                    0                     0                           0   \n",
       "5108                    1                     0                           0   \n",
       "5109                    0                     0                           1   \n",
       "\n",
       "      work_type_encoded_Never_worked  work_type_encoded_Private  \\\n",
       "0                                  0                          1   \n",
       "1                                  0                          0   \n",
       "2                                  0                          1   \n",
       "3                                  0                          1   \n",
       "4                                  0                          0   \n",
       "...                              ...                        ...   \n",
       "5105                               0                          1   \n",
       "5106                               0                          0   \n",
       "5107                               0                          0   \n",
       "5108                               0                          1   \n",
       "5109                               0                          0   \n",
       "\n",
       "      work_type_encoded_Self-employed  work_type_encoded_children  \\\n",
       "0                                   0                           0   \n",
       "1                                   1                           0   \n",
       "2                                   0                           0   \n",
       "3                                   0                           0   \n",
       "4                                   1                           0   \n",
       "...                               ...                         ...   \n",
       "5105                                0                           0   \n",
       "5106                                1                           0   \n",
       "5107                                1                           0   \n",
       "5108                                0                           0   \n",
       "5109                                0                           0   \n",
       "\n",
       "      smoking_status_encoded_Unknown  smoking_status_encoded_formerly smoked  \\\n",
       "0                                  0                                       1   \n",
       "1                                  0                                       0   \n",
       "2                                  0                                       0   \n",
       "3                                  0                                       0   \n",
       "4                                  0                                       0   \n",
       "...                              ...                                     ...   \n",
       "5105                               0                                       0   \n",
       "5106                               0                                       0   \n",
       "5107                               0                                       0   \n",
       "5108                               0                                       1   \n",
       "5109                               1                                       0   \n",
       "\n",
       "      smoking_status_encoded_never smoked  smoking_status_encoded_smokes  \n",
       "0                                       0                              0  \n",
       "1                                       1                              0  \n",
       "2                                       1                              0  \n",
       "3                                       0                              1  \n",
       "4                                       1                              0  \n",
       "...                                   ...                            ...  \n",
       "5105                                    1                              0  \n",
       "5106                                    1                              0  \n",
       "5107                                    1                              0  \n",
       "5108                                    0                              0  \n",
       "5109                                    0                              0  \n",
       "\n",
       "[5110 rows x 20 columns]"
      ]
     },
     "execution_count": 39,
     "metadata": {},
     "output_type": "execute_result"
    }
   ],
   "source": [
    "df = pd.concat([df, dfDummies_gender], axis=1)\n",
    "df = pd.concat([df, dfDummies_work_type], axis=1)\n",
    "df = pd.concat([df, dfDummies_smoking_status], axis=1)\n",
    "df"
   ]
  },
  {
   "cell_type": "code",
   "execution_count": 40,
   "id": "egyptian-greensboro",
   "metadata": {
    "execution": {
     "iopub.execute_input": "2021-03-18T11:22:18.391899Z",
     "iopub.status.busy": "2021-03-18T11:22:18.390841Z",
     "iopub.status.idle": "2021-03-18T11:22:18.401625Z",
     "shell.execute_reply": "2021-03-18T11:22:18.401021Z"
    },
    "papermill": {
     "duration": 0.103082,
     "end_time": "2021-03-18T11:22:18.401768",
     "exception": false,
     "start_time": "2021-03-18T11:22:18.298686",
     "status": "completed"
    },
    "tags": []
   },
   "outputs": [],
   "source": [
    "from sklearn.preprocessing import StandardScaler\n",
    "std=StandardScaler()\n",
    "columns = ['avg_glucose_level','bmi','age']\n",
    "scaled = std.fit_transform(df[['avg_glucose_level','bmi','age']])\n",
    "scaled = pd.DataFrame(scaled,columns=columns)\n",
    "df=df.drop(columns=columns,axis=1)"
   ]
  },
  {
   "cell_type": "code",
   "execution_count": 41,
   "id": "boolean-comedy",
   "metadata": {
    "execution": {
     "iopub.execute_input": "2021-03-18T11:22:18.577006Z",
     "iopub.status.busy": "2021-03-18T11:22:18.576344Z",
     "iopub.status.idle": "2021-03-18T11:22:18.602591Z",
     "shell.execute_reply": "2021-03-18T11:22:18.601988Z"
    },
    "papermill": {
     "duration": 0.115203,
     "end_time": "2021-03-18T11:22:18.602736",
     "exception": false,
     "start_time": "2021-03-18T11:22:18.487533",
     "status": "completed"
    },
    "tags": []
   },
   "outputs": [
    {
     "data": {
      "text/html": [
       "<div>\n",
       "<style scoped>\n",
       "    .dataframe tbody tr th:only-of-type {\n",
       "        vertical-align: middle;\n",
       "    }\n",
       "\n",
       "    .dataframe tbody tr th {\n",
       "        vertical-align: top;\n",
       "    }\n",
       "\n",
       "    .dataframe thead th {\n",
       "        text-align: right;\n",
       "    }\n",
       "</style>\n",
       "<table border=\"1\" class=\"dataframe\">\n",
       "  <thead>\n",
       "    <tr style=\"text-align: right;\">\n",
       "      <th></th>\n",
       "      <th>hypertension</th>\n",
       "      <th>heart_disease</th>\n",
       "      <th>ever_married</th>\n",
       "      <th>Residence_type</th>\n",
       "      <th>stroke</th>\n",
       "      <th>gender_encoded_Female</th>\n",
       "      <th>gender_encoded_Male</th>\n",
       "      <th>gender_encoded_Other</th>\n",
       "      <th>work_type_encoded_Govt_job</th>\n",
       "      <th>work_type_encoded_Never_worked</th>\n",
       "      <th>work_type_encoded_Private</th>\n",
       "      <th>work_type_encoded_Self-employed</th>\n",
       "      <th>work_type_encoded_children</th>\n",
       "      <th>smoking_status_encoded_Unknown</th>\n",
       "      <th>smoking_status_encoded_formerly smoked</th>\n",
       "      <th>smoking_status_encoded_never smoked</th>\n",
       "      <th>smoking_status_encoded_smokes</th>\n",
       "      <th>avg_glucose_level</th>\n",
       "      <th>bmi</th>\n",
       "      <th>age</th>\n",
       "    </tr>\n",
       "  </thead>\n",
       "  <tbody>\n",
       "    <tr>\n",
       "      <th>0</th>\n",
       "      <td>0</td>\n",
       "      <td>1</td>\n",
       "      <td>1</td>\n",
       "      <td>0</td>\n",
       "      <td>1</td>\n",
       "      <td>0</td>\n",
       "      <td>1</td>\n",
       "      <td>0</td>\n",
       "      <td>0</td>\n",
       "      <td>0</td>\n",
       "      <td>1</td>\n",
       "      <td>0</td>\n",
       "      <td>0</td>\n",
       "      <td>0</td>\n",
       "      <td>1</td>\n",
       "      <td>0</td>\n",
       "      <td>0</td>\n",
       "      <td>2.706375</td>\n",
       "      <td>1.001234e+00</td>\n",
       "      <td>1.051434</td>\n",
       "    </tr>\n",
       "    <tr>\n",
       "      <th>1</th>\n",
       "      <td>0</td>\n",
       "      <td>0</td>\n",
       "      <td>1</td>\n",
       "      <td>1</td>\n",
       "      <td>1</td>\n",
       "      <td>1</td>\n",
       "      <td>0</td>\n",
       "      <td>0</td>\n",
       "      <td>0</td>\n",
       "      <td>0</td>\n",
       "      <td>0</td>\n",
       "      <td>1</td>\n",
       "      <td>0</td>\n",
       "      <td>0</td>\n",
       "      <td>0</td>\n",
       "      <td>1</td>\n",
       "      <td>0</td>\n",
       "      <td>2.121559</td>\n",
       "      <td>1.384666e-15</td>\n",
       "      <td>0.786070</td>\n",
       "    </tr>\n",
       "    <tr>\n",
       "      <th>2</th>\n",
       "      <td>0</td>\n",
       "      <td>1</td>\n",
       "      <td>1</td>\n",
       "      <td>1</td>\n",
       "      <td>1</td>\n",
       "      <td>0</td>\n",
       "      <td>1</td>\n",
       "      <td>0</td>\n",
       "      <td>0</td>\n",
       "      <td>0</td>\n",
       "      <td>1</td>\n",
       "      <td>0</td>\n",
       "      <td>0</td>\n",
       "      <td>0</td>\n",
       "      <td>0</td>\n",
       "      <td>1</td>\n",
       "      <td>0</td>\n",
       "      <td>-0.005028</td>\n",
       "      <td>4.685773e-01</td>\n",
       "      <td>1.626390</td>\n",
       "    </tr>\n",
       "    <tr>\n",
       "      <th>3</th>\n",
       "      <td>0</td>\n",
       "      <td>0</td>\n",
       "      <td>1</td>\n",
       "      <td>0</td>\n",
       "      <td>1</td>\n",
       "      <td>1</td>\n",
       "      <td>0</td>\n",
       "      <td>0</td>\n",
       "      <td>0</td>\n",
       "      <td>0</td>\n",
       "      <td>1</td>\n",
       "      <td>0</td>\n",
       "      <td>0</td>\n",
       "      <td>0</td>\n",
       "      <td>0</td>\n",
       "      <td>0</td>\n",
       "      <td>1</td>\n",
       "      <td>1.437358</td>\n",
       "      <td>7.154182e-01</td>\n",
       "      <td>0.255342</td>\n",
       "    </tr>\n",
       "    <tr>\n",
       "      <th>4</th>\n",
       "      <td>1</td>\n",
       "      <td>0</td>\n",
       "      <td>1</td>\n",
       "      <td>1</td>\n",
       "      <td>1</td>\n",
       "      <td>1</td>\n",
       "      <td>0</td>\n",
       "      <td>0</td>\n",
       "      <td>0</td>\n",
       "      <td>0</td>\n",
       "      <td>0</td>\n",
       "      <td>1</td>\n",
       "      <td>0</td>\n",
       "      <td>0</td>\n",
       "      <td>0</td>\n",
       "      <td>1</td>\n",
       "      <td>0</td>\n",
       "      <td>1.501184</td>\n",
       "      <td>-6.357112e-01</td>\n",
       "      <td>1.582163</td>\n",
       "    </tr>\n",
       "    <tr>\n",
       "      <th>...</th>\n",
       "      <td>...</td>\n",
       "      <td>...</td>\n",
       "      <td>...</td>\n",
       "      <td>...</td>\n",
       "      <td>...</td>\n",
       "      <td>...</td>\n",
       "      <td>...</td>\n",
       "      <td>...</td>\n",
       "      <td>...</td>\n",
       "      <td>...</td>\n",
       "      <td>...</td>\n",
       "      <td>...</td>\n",
       "      <td>...</td>\n",
       "      <td>...</td>\n",
       "      <td>...</td>\n",
       "      <td>...</td>\n",
       "      <td>...</td>\n",
       "      <td>...</td>\n",
       "      <td>...</td>\n",
       "      <td>...</td>\n",
       "    </tr>\n",
       "    <tr>\n",
       "      <th>5105</th>\n",
       "      <td>1</td>\n",
       "      <td>0</td>\n",
       "      <td>1</td>\n",
       "      <td>0</td>\n",
       "      <td>0</td>\n",
       "      <td>1</td>\n",
       "      <td>0</td>\n",
       "      <td>0</td>\n",
       "      <td>0</td>\n",
       "      <td>0</td>\n",
       "      <td>1</td>\n",
       "      <td>0</td>\n",
       "      <td>0</td>\n",
       "      <td>0</td>\n",
       "      <td>0</td>\n",
       "      <td>1</td>\n",
       "      <td>0</td>\n",
       "      <td>-0.494658</td>\n",
       "      <td>1.384666e-15</td>\n",
       "      <td>1.626390</td>\n",
       "    </tr>\n",
       "    <tr>\n",
       "      <th>5106</th>\n",
       "      <td>0</td>\n",
       "      <td>0</td>\n",
       "      <td>1</td>\n",
       "      <td>0</td>\n",
       "      <td>0</td>\n",
       "      <td>1</td>\n",
       "      <td>0</td>\n",
       "      <td>0</td>\n",
       "      <td>0</td>\n",
       "      <td>0</td>\n",
       "      <td>0</td>\n",
       "      <td>1</td>\n",
       "      <td>0</td>\n",
       "      <td>0</td>\n",
       "      <td>0</td>\n",
       "      <td>1</td>\n",
       "      <td>0</td>\n",
       "      <td>0.420775</td>\n",
       "      <td>1.442949e+00</td>\n",
       "      <td>1.670617</td>\n",
       "    </tr>\n",
       "    <tr>\n",
       "      <th>5107</th>\n",
       "      <td>0</td>\n",
       "      <td>0</td>\n",
       "      <td>1</td>\n",
       "      <td>1</td>\n",
       "      <td>0</td>\n",
       "      <td>1</td>\n",
       "      <td>0</td>\n",
       "      <td>0</td>\n",
       "      <td>0</td>\n",
       "      <td>0</td>\n",
       "      <td>0</td>\n",
       "      <td>1</td>\n",
       "      <td>0</td>\n",
       "      <td>0</td>\n",
       "      <td>0</td>\n",
       "      <td>1</td>\n",
       "      <td>0</td>\n",
       "      <td>-0.511443</td>\n",
       "      <td>2.217363e-01</td>\n",
       "      <td>-0.363842</td>\n",
       "    </tr>\n",
       "    <tr>\n",
       "      <th>5108</th>\n",
       "      <td>0</td>\n",
       "      <td>0</td>\n",
       "      <td>1</td>\n",
       "      <td>1</td>\n",
       "      <td>0</td>\n",
       "      <td>0</td>\n",
       "      <td>1</td>\n",
       "      <td>0</td>\n",
       "      <td>0</td>\n",
       "      <td>0</td>\n",
       "      <td>1</td>\n",
       "      <td>0</td>\n",
       "      <td>0</td>\n",
       "      <td>0</td>\n",
       "      <td>1</td>\n",
       "      <td>0</td>\n",
       "      <td>0</td>\n",
       "      <td>1.328257</td>\n",
       "      <td>-4.278451e-01</td>\n",
       "      <td>0.343796</td>\n",
       "    </tr>\n",
       "    <tr>\n",
       "      <th>5109</th>\n",
       "      <td>0</td>\n",
       "      <td>0</td>\n",
       "      <td>1</td>\n",
       "      <td>0</td>\n",
       "      <td>0</td>\n",
       "      <td>1</td>\n",
       "      <td>0</td>\n",
       "      <td>0</td>\n",
       "      <td>1</td>\n",
       "      <td>0</td>\n",
       "      <td>0</td>\n",
       "      <td>0</td>\n",
       "      <td>0</td>\n",
       "      <td>1</td>\n",
       "      <td>0</td>\n",
       "      <td>0</td>\n",
       "      <td>0</td>\n",
       "      <td>-0.460867</td>\n",
       "      <td>-3.498953e-01</td>\n",
       "      <td>0.034205</td>\n",
       "    </tr>\n",
       "  </tbody>\n",
       "</table>\n",
       "<p>5110 rows × 20 columns</p>\n",
       "</div>"
      ],
      "text/plain": [
       "      hypertension  heart_disease  ever_married  Residence_type  stroke  \\\n",
       "0                0              1             1               0       1   \n",
       "1                0              0             1               1       1   \n",
       "2                0              1             1               1       1   \n",
       "3                0              0             1               0       1   \n",
       "4                1              0             1               1       1   \n",
       "...            ...            ...           ...             ...     ...   \n",
       "5105             1              0             1               0       0   \n",
       "5106             0              0             1               0       0   \n",
       "5107             0              0             1               1       0   \n",
       "5108             0              0             1               1       0   \n",
       "5109             0              0             1               0       0   \n",
       "\n",
       "      gender_encoded_Female  gender_encoded_Male  gender_encoded_Other  \\\n",
       "0                         0                    1                     0   \n",
       "1                         1                    0                     0   \n",
       "2                         0                    1                     0   \n",
       "3                         1                    0                     0   \n",
       "4                         1                    0                     0   \n",
       "...                     ...                  ...                   ...   \n",
       "5105                      1                    0                     0   \n",
       "5106                      1                    0                     0   \n",
       "5107                      1                    0                     0   \n",
       "5108                      0                    1                     0   \n",
       "5109                      1                    0                     0   \n",
       "\n",
       "      work_type_encoded_Govt_job  work_type_encoded_Never_worked  \\\n",
       "0                              0                               0   \n",
       "1                              0                               0   \n",
       "2                              0                               0   \n",
       "3                              0                               0   \n",
       "4                              0                               0   \n",
       "...                          ...                             ...   \n",
       "5105                           0                               0   \n",
       "5106                           0                               0   \n",
       "5107                           0                               0   \n",
       "5108                           0                               0   \n",
       "5109                           1                               0   \n",
       "\n",
       "      work_type_encoded_Private  work_type_encoded_Self-employed  \\\n",
       "0                             1                                0   \n",
       "1                             0                                1   \n",
       "2                             1                                0   \n",
       "3                             1                                0   \n",
       "4                             0                                1   \n",
       "...                         ...                              ...   \n",
       "5105                          1                                0   \n",
       "5106                          0                                1   \n",
       "5107                          0                                1   \n",
       "5108                          1                                0   \n",
       "5109                          0                                0   \n",
       "\n",
       "      work_type_encoded_children  smoking_status_encoded_Unknown  \\\n",
       "0                              0                               0   \n",
       "1                              0                               0   \n",
       "2                              0                               0   \n",
       "3                              0                               0   \n",
       "4                              0                               0   \n",
       "...                          ...                             ...   \n",
       "5105                           0                               0   \n",
       "5106                           0                               0   \n",
       "5107                           0                               0   \n",
       "5108                           0                               0   \n",
       "5109                           0                               1   \n",
       "\n",
       "      smoking_status_encoded_formerly smoked  \\\n",
       "0                                          1   \n",
       "1                                          0   \n",
       "2                                          0   \n",
       "3                                          0   \n",
       "4                                          0   \n",
       "...                                      ...   \n",
       "5105                                       0   \n",
       "5106                                       0   \n",
       "5107                                       0   \n",
       "5108                                       1   \n",
       "5109                                       0   \n",
       "\n",
       "      smoking_status_encoded_never smoked  smoking_status_encoded_smokes  \\\n",
       "0                                       0                              0   \n",
       "1                                       1                              0   \n",
       "2                                       1                              0   \n",
       "3                                       0                              1   \n",
       "4                                       1                              0   \n",
       "...                                   ...                            ...   \n",
       "5105                                    1                              0   \n",
       "5106                                    1                              0   \n",
       "5107                                    1                              0   \n",
       "5108                                    0                              0   \n",
       "5109                                    0                              0   \n",
       "\n",
       "      avg_glucose_level           bmi       age  \n",
       "0              2.706375  1.001234e+00  1.051434  \n",
       "1              2.121559  1.384666e-15  0.786070  \n",
       "2             -0.005028  4.685773e-01  1.626390  \n",
       "3              1.437358  7.154182e-01  0.255342  \n",
       "4              1.501184 -6.357112e-01  1.582163  \n",
       "...                 ...           ...       ...  \n",
       "5105          -0.494658  1.384666e-15  1.626390  \n",
       "5106           0.420775  1.442949e+00  1.670617  \n",
       "5107          -0.511443  2.217363e-01 -0.363842  \n",
       "5108           1.328257 -4.278451e-01  0.343796  \n",
       "5109          -0.460867 -3.498953e-01  0.034205  \n",
       "\n",
       "[5110 rows x 20 columns]"
      ]
     },
     "execution_count": 41,
     "metadata": {},
     "output_type": "execute_result"
    }
   ],
   "source": [
    "df=df.merge(scaled, left_index=True, right_index=True, how = \"left\")\n",
    "df"
   ]
  },
  {
   "cell_type": "code",
   "execution_count": 42,
   "id": "waiting-seventh",
   "metadata": {
    "execution": {
     "iopub.execute_input": "2021-03-18T11:22:18.783722Z",
     "iopub.status.busy": "2021-03-18T11:22:18.782939Z",
     "iopub.status.idle": "2021-03-18T11:22:18.786635Z",
     "shell.execute_reply": "2021-03-18T11:22:18.786031Z"
    },
    "papermill": {
     "duration": 0.09782,
     "end_time": "2021-03-18T11:22:18.786787",
     "exception": false,
     "start_time": "2021-03-18T11:22:18.688967",
     "status": "completed"
    },
    "tags": []
   },
   "outputs": [],
   "source": [
    "y = df[\"stroke\"]\n",
    "X = df.drop(['stroke'],axis=1)\n"
   ]
  },
  {
   "cell_type": "code",
   "execution_count": 43,
   "id": "legitimate-claim",
   "metadata": {
    "execution": {
     "iopub.execute_input": "2021-03-18T11:22:18.968469Z",
     "iopub.status.busy": "2021-03-18T11:22:18.967684Z",
     "iopub.status.idle": "2021-03-18T11:22:18.975507Z",
     "shell.execute_reply": "2021-03-18T11:22:18.974761Z"
    },
    "papermill": {
     "duration": 0.101568,
     "end_time": "2021-03-18T11:22:18.975701",
     "exception": false,
     "start_time": "2021-03-18T11:22:18.874133",
     "status": "completed"
    },
    "tags": []
   },
   "outputs": [
    {
     "name": "stdout",
     "output_type": "stream",
     "text": [
      "Total # of sample in whole dataset: 5110\n",
      "Total # of sample in train dataset: 3832\n",
      "Total # of sample in test dataset: 1278\n"
     ]
    }
   ],
   "source": [
    "X_train, X_test, y_train, y_test = train_test_split(X, y, test_size=0.25, random_state = 101)\n",
    "\n",
    "print(f'Total # of sample in whole dataset: {len(X)}')\n",
    "print(f'Total # of sample in train dataset: {len(X_train)}')\n",
    "print(f'Total # of sample in test dataset: {len(X_test)}')"
   ]
  },
  {
   "cell_type": "markdown",
   "id": "according-paragraph",
   "metadata": {
    "papermill": {
     "duration": 0.089665,
     "end_time": "2021-03-18T11:22:19.154644",
     "exception": false,
     "start_time": "2021-03-18T11:22:19.064979",
     "status": "completed"
    },
    "tags": []
   },
   "source": [
    "<a id=\"ml\"></a>\n",
    "# ML Models"
   ]
  },
  {
   "cell_type": "code",
   "execution_count": 44,
   "id": "broad-virgin",
   "metadata": {
    "execution": {
     "iopub.execute_input": "2021-03-18T11:22:19.341573Z",
     "iopub.status.busy": "2021-03-18T11:22:19.340821Z",
     "iopub.status.idle": "2021-03-18T11:22:19.390258Z",
     "shell.execute_reply": "2021-03-18T11:22:19.389508Z"
    },
    "papermill": {
     "duration": 0.147554,
     "end_time": "2021-03-18T11:22:19.390417",
     "exception": false,
     "start_time": "2021-03-18T11:22:19.242863",
     "status": "completed"
    },
    "tags": []
   },
   "outputs": [
    {
     "name": "stdout",
     "output_type": "stream",
     "text": [
      "confussion matrix\n",
      "[[1208    0]\n",
      " [  69    1]]\n",
      "-------------------------------------------\n",
      "Accuracy of Logistic Regression: 94.60093896713614 \n",
      "\n",
      "-------------------------------------------\n",
      "              precision    recall  f1-score   support\n",
      "\n",
      "           0       0.95      1.00      0.97      1208\n",
      "           1       1.00      0.01      0.03        70\n",
      "\n",
      "    accuracy                           0.95      1278\n",
      "   macro avg       0.97      0.51      0.50      1278\n",
      "weighted avg       0.95      0.95      0.92      1278\n",
      "\n"
     ]
    }
   ],
   "source": [
    "model_lgr = 'Logistic Regression'\n",
    "lr = LogisticRegression()\n",
    "model = lr.fit(X_train, y_train)\n",
    "lr_predict = lr.predict(X_test)\n",
    "lr_conf_matrix = confusion_matrix(y_test, lr_predict)\n",
    "lr_acc_score = accuracy_score(y_test, lr_predict)\n",
    "print(\"confussion matrix\")\n",
    "print(lr_conf_matrix)\n",
    "print(\"-------------------------------------------\")\n",
    "print(\"Accuracy of Logistic Regression:\",lr_acc_score*100,'\\n')\n",
    "print(\"-------------------------------------------\")\n",
    "print(classification_report(y_test,lr_predict))"
   ]
  },
  {
   "cell_type": "code",
   "execution_count": 45,
   "id": "vietnamese-encounter",
   "metadata": {
    "execution": {
     "iopub.execute_input": "2021-03-18T11:22:19.578679Z",
     "iopub.status.busy": "2021-03-18T11:22:19.577856Z",
     "iopub.status.idle": "2021-03-18T11:22:19.599123Z",
     "shell.execute_reply": "2021-03-18T11:22:19.599678Z"
    },
    "papermill": {
     "duration": 0.120695,
     "end_time": "2021-03-18T11:22:19.599871",
     "exception": false,
     "start_time": "2021-03-18T11:22:19.479176",
     "status": "completed"
    },
    "tags": []
   },
   "outputs": [
    {
     "name": "stdout",
     "output_type": "stream",
     "text": [
      "confussion matrix\n",
      "[[ 195 1013]\n",
      " [   0   70]]\n",
      "-------------------------------------------\n",
      "Accuracy of Naive Bayes model: 20.73552425665102 \n",
      "\n",
      "-------------------------------------------\n",
      "              precision    recall  f1-score   support\n",
      "\n",
      "           0       1.00      0.16      0.28      1208\n",
      "           1       0.06      1.00      0.12        70\n",
      "\n",
      "    accuracy                           0.21      1278\n",
      "   macro avg       0.53      0.58      0.20      1278\n",
      "weighted avg       0.95      0.21      0.27      1278\n",
      "\n"
     ]
    }
   ],
   "source": [
    "model_nb = 'Naive Bayes'\n",
    "nb = GaussianNB()\n",
    "nb.fit(X_train,y_train)\n",
    "nbpred = nb.predict(X_test)\n",
    "nb_conf_matrix = confusion_matrix(y_test, nbpred)\n",
    "nb_acc_score = accuracy_score(y_test, nbpred)\n",
    "print(\"confussion matrix\")\n",
    "print(nb_conf_matrix)\n",
    "print(\"-------------------------------------------\")\n",
    "print(\"Accuracy of Naive Bayes model:\",nb_acc_score*100,'\\n')\n",
    "print(\"-------------------------------------------\")\n",
    "print(classification_report(y_test,nbpred))"
   ]
  },
  {
   "cell_type": "code",
   "execution_count": 46,
   "id": "blessed-reset",
   "metadata": {
    "execution": {
     "iopub.execute_input": "2021-03-18T11:22:19.787913Z",
     "iopub.status.busy": "2021-03-18T11:22:19.787097Z",
     "iopub.status.idle": "2021-03-18T11:22:19.844002Z",
     "shell.execute_reply": "2021-03-18T11:22:19.843070Z"
    },
    "papermill": {
     "duration": 0.155496,
     "end_time": "2021-03-18T11:22:19.844224",
     "exception": false,
     "start_time": "2021-03-18T11:22:19.688728",
     "status": "completed"
    },
    "tags": []
   },
   "outputs": [
    {
     "name": "stdout",
     "output_type": "stream",
     "text": [
      "confussion matrix\n",
      "[[1208    0]\n",
      " [  70    0]]\n",
      "-------------------------------------------\n",
      "Accuracy of Random Forest: 94.5226917057903 \n",
      "\n",
      "-------------------------------------------\n",
      "              precision    recall  f1-score   support\n",
      "\n",
      "           0       0.95      1.00      0.97      1208\n",
      "           1       0.00      0.00      0.00        70\n",
      "\n",
      "    accuracy                           0.95      1278\n",
      "   macro avg       0.47      0.50      0.49      1278\n",
      "weighted avg       0.89      0.95      0.92      1278\n",
      "\n"
     ]
    }
   ],
   "source": [
    "model_rfc = 'Random Forest Classfier'\n",
    "rf = RandomForestClassifier(n_estimators=10, random_state=101,max_depth=5)\n",
    "rf.fit(X_train,y_train)\n",
    "rf_predicted = rf.predict(X_test)\n",
    "rf_conf_matrix = confusion_matrix(y_test, rf_predicted)\n",
    "rf_acc_score = accuracy_score(y_test, rf_predicted)\n",
    "print(\"confussion matrix\")\n",
    "print(rf_conf_matrix)\n",
    "print(\"-------------------------------------------\")\n",
    "print(\"Accuracy of Random Forest:\",rf_acc_score*100,'\\n')\n",
    "print(\"-------------------------------------------\")\n",
    "print(classification_report(y_test,rf_predicted))"
   ]
  },
  {
   "cell_type": "code",
   "execution_count": 47,
   "id": "extraordinary-fellowship",
   "metadata": {
    "execution": {
     "iopub.execute_input": "2021-03-18T11:22:20.034511Z",
     "iopub.status.busy": "2021-03-18T11:22:20.033661Z",
     "iopub.status.idle": "2021-03-18T11:22:20.097546Z",
     "shell.execute_reply": "2021-03-18T11:22:20.098098Z"
    },
    "papermill": {
     "duration": 0.1631,
     "end_time": "2021-03-18T11:22:20.098317",
     "exception": false,
     "start_time": "2021-03-18T11:22:19.935217",
     "status": "completed"
    },
    "tags": []
   },
   "outputs": [
    {
     "name": "stdout",
     "output_type": "stream",
     "text": [
      "[11:22:20] WARNING: ../src/learner.cc:1061: Starting in XGBoost 1.3.0, the default evaluation metric used with the objective 'binary:logistic' was changed from 'error' to 'logloss'. Explicitly set eval_metric if you'd like to restore the old behavior.\n",
      "confussion matrix\n",
      "[[1208    0]\n",
      " [  70    0]]\n",
      "-------------------------------------------\n",
      "Accuracy of Extreme Gradient Boost: 94.5226917057903 \n",
      "\n",
      "-------------------------------------------\n",
      "              precision    recall  f1-score   support\n",
      "\n",
      "           0       0.95      1.00      0.97      1208\n",
      "           1       0.00      0.00      0.00        70\n",
      "\n",
      "    accuracy                           0.95      1278\n",
      "   macro avg       0.47      0.50      0.49      1278\n",
      "weighted avg       0.89      0.95      0.92      1278\n",
      "\n"
     ]
    }
   ],
   "source": [
    "model_egb = 'Extreme Gradient Boost'\n",
    "xgb = XGBClassifier(learning_rate=0.01, n_estimators=15, max_depth=10,gamma=0.6, subsample=0.52,colsample_bytree=0.6,seed=27, \n",
    "                    reg_lambda=2, booster='dart', colsample_bylevel=0.6, colsample_bynode=0.5)\n",
    "xgb.fit(X_train, y_train)\n",
    "xgb_predicted = xgb.predict(X_test)\n",
    "xgb_conf_matrix = confusion_matrix(y_test, xgb_predicted)\n",
    "xgb_acc_score = accuracy_score(y_test, xgb_predicted)\n",
    "print(\"confussion matrix\")\n",
    "print(xgb_conf_matrix)\n",
    "print(\"-------------------------------------------\")\n",
    "print(\"Accuracy of Extreme Gradient Boost:\",xgb_acc_score*100,'\\n')\n",
    "print(\"-------------------------------------------\")\n",
    "print(classification_report(y_test,xgb_predicted))"
   ]
  },
  {
   "cell_type": "code",
   "execution_count": 48,
   "id": "multiple-tracker",
   "metadata": {
    "execution": {
     "iopub.execute_input": "2021-03-18T11:22:20.280449Z",
     "iopub.status.busy": "2021-03-18T11:22:20.279768Z",
     "iopub.status.idle": "2021-03-18T11:22:20.817469Z",
     "shell.execute_reply": "2021-03-18T11:22:20.817956Z"
    },
    "papermill": {
     "duration": 0.630626,
     "end_time": "2021-03-18T11:22:20.818141",
     "exception": false,
     "start_time": "2021-03-18T11:22:20.187515",
     "status": "completed"
    },
    "tags": []
   },
   "outputs": [
    {
     "name": "stdout",
     "output_type": "stream",
     "text": [
      "confussion matrix\n",
      "[[1206    2]\n",
      " [  70    0]]\n",
      "-------------------------------------------\n",
      "Accuracy of Gradient Boosting: 94.36619718309859 \n",
      "\n",
      "-------------------------------------------\n",
      "              precision    recall  f1-score   support\n",
      "\n",
      "           0       0.95      1.00      0.97      1208\n",
      "           1       0.00      0.00      0.00        70\n",
      "\n",
      "    accuracy                           0.94      1278\n",
      "   macro avg       0.47      0.50      0.49      1278\n",
      "weighted avg       0.89      0.94      0.92      1278\n",
      "\n"
     ]
    }
   ],
   "source": [
    "model_gb = 'Gradient Boost'\n",
    "gb = GradientBoostingClassifier(random_state=0)\n",
    "gb.fit(X_train, y_train)\n",
    "gb_predicted = gb.predict(X_test)\n",
    "gb_conf_matrix = confusion_matrix(y_test, gb_predicted)\n",
    "gb_acc_score = accuracy_score(y_test, gb_predicted)\n",
    "print(\"confussion matrix\")\n",
    "print(gb_conf_matrix)\n",
    "print(\"-------------------------------------------\")\n",
    "print(\"Accuracy of Gradient Boosting:\",gb_acc_score*100,'\\n')\n",
    "print(\"-------------------------------------------\")\n",
    "print(classification_report(y_test,gb_predicted))"
   ]
  },
  {
   "cell_type": "code",
   "execution_count": 49,
   "id": "recognized-tooth",
   "metadata": {
    "execution": {
     "iopub.execute_input": "2021-03-18T11:22:21.010168Z",
     "iopub.status.busy": "2021-03-18T11:22:21.008995Z",
     "iopub.status.idle": "2021-03-18T11:22:21.230321Z",
     "shell.execute_reply": "2021-03-18T11:22:21.229260Z"
    },
    "papermill": {
     "duration": 0.322485,
     "end_time": "2021-03-18T11:22:21.230539",
     "exception": false,
     "start_time": "2021-03-18T11:22:20.908054",
     "status": "completed"
    },
    "tags": []
   },
   "outputs": [
    {
     "name": "stdout",
     "output_type": "stream",
     "text": [
      "confussion matrix\n",
      "[[1208    0]\n",
      " [  70    0]]\n",
      "-------------------------------------------\n",
      "Accuracy of K-NeighborsClassifier: 94.5226917057903 \n",
      "\n",
      "-------------------------------------------\n",
      "              precision    recall  f1-score   support\n",
      "\n",
      "           0       0.95      1.00      0.97      1208\n",
      "           1       0.00      0.00      0.00        70\n",
      "\n",
      "    accuracy                           0.95      1278\n",
      "   macro avg       0.47      0.50      0.49      1278\n",
      "weighted avg       0.89      0.95      0.92      1278\n",
      "\n"
     ]
    }
   ],
   "source": [
    "model_knn = 'K-NeighborsClassifier'\n",
    "knn = KNeighborsClassifier(n_neighbors=10)\n",
    "knn.fit(X_train, y_train)\n",
    "knn_predicted = knn.predict(X_test)\n",
    "knn_conf_matrix = confusion_matrix(y_test, knn_predicted)\n",
    "knn_acc_score = accuracy_score(y_test, knn_predicted)\n",
    "print(\"confussion matrix\")\n",
    "print(knn_conf_matrix)\n",
    "print(\"-------------------------------------------\")\n",
    "print(\"Accuracy of K-NeighborsClassifier:\",knn_acc_score*100,'\\n')\n",
    "print(\"-------------------------------------------\")\n",
    "print(classification_report(y_test,knn_predicted))"
   ]
  },
  {
   "cell_type": "code",
   "execution_count": 50,
   "id": "competent-gallery",
   "metadata": {
    "execution": {
     "iopub.execute_input": "2021-03-18T11:22:21.421958Z",
     "iopub.status.busy": "2021-03-18T11:22:21.420638Z",
     "iopub.status.idle": "2021-03-18T11:22:21.450650Z",
     "shell.execute_reply": "2021-03-18T11:22:21.451140Z"
    },
    "papermill": {
     "duration": 0.129675,
     "end_time": "2021-03-18T11:22:21.451360",
     "exception": false,
     "start_time": "2021-03-18T11:22:21.321685",
     "status": "completed"
    },
    "tags": []
   },
   "outputs": [
    {
     "name": "stdout",
     "output_type": "stream",
     "text": [
      "confussion matrix\n",
      "[[1208    0]\n",
      " [  70    0]]\n",
      "-------------------------------------------\n",
      "Accuracy of DecisionTreeClassifier: 94.5226917057903 \n",
      "\n",
      "-------------------------------------------\n",
      "              precision    recall  f1-score   support\n",
      "\n",
      "           0       0.95      1.00      0.97      1208\n",
      "           1       0.00      0.00      0.00        70\n",
      "\n",
      "    accuracy                           0.95      1278\n",
      "   macro avg       0.47      0.50      0.49      1278\n",
      "weighted avg       0.89      0.95      0.92      1278\n",
      "\n"
     ]
    }
   ],
   "source": [
    "model_dtc = 'DecisionTreeClassifier'\n",
    "dt = DecisionTreeClassifier(criterion = 'entropy',random_state=0,max_depth = 5)\n",
    "dt.fit(X_train, y_train)\n",
    "dt_predicted = dt.predict(X_test)\n",
    "dt_conf_matrix = confusion_matrix(y_test, dt_predicted)\n",
    "dt_acc_score = accuracy_score(y_test, dt_predicted)\n",
    "print(\"confussion matrix\")\n",
    "print(dt_conf_matrix)\n",
    "print(\"-------------------------------------------\")\n",
    "print(\"Accuracy of DecisionTreeClassifier:\",dt_acc_score*100,'\\n')\n",
    "print(\"-------------------------------------------\")\n",
    "print(classification_report(y_test,dt_predicted))"
   ]
  },
  {
   "cell_type": "code",
   "execution_count": 51,
   "id": "quantitative-initial",
   "metadata": {
    "execution": {
     "iopub.execute_input": "2021-03-18T11:22:21.641907Z",
     "iopub.status.busy": "2021-03-18T11:22:21.641040Z",
     "iopub.status.idle": "2021-03-18T11:22:21.962334Z",
     "shell.execute_reply": "2021-03-18T11:22:21.962881Z"
    },
    "papermill": {
     "duration": 0.421132,
     "end_time": "2021-03-18T11:22:21.963061",
     "exception": false,
     "start_time": "2021-03-18T11:22:21.541929",
     "status": "completed"
    },
    "tags": []
   },
   "outputs": [
    {
     "name": "stdout",
     "output_type": "stream",
     "text": [
      "confussion matrix\n",
      "[[1207    1]\n",
      " [  70    0]]\n",
      "-------------------------------------------\n",
      "Accuracy of Support Vector Classifier: 94.44444444444444 \n",
      "\n",
      "-------------------------------------------\n",
      "              precision    recall  f1-score   support\n",
      "\n",
      "           0       0.95      1.00      0.97      1208\n",
      "           1       0.00      0.00      0.00        70\n",
      "\n",
      "    accuracy                           0.94      1278\n",
      "   macro avg       0.47      0.50      0.49      1278\n",
      "weighted avg       0.89      0.94      0.92      1278\n",
      "\n"
     ]
    }
   ],
   "source": [
    "model_svc = 'Support Vector Classifier'\n",
    "svc =  SVC(kernel='rbf', C=5)\n",
    "svc.fit(X_train, y_train)\n",
    "svc_predicted = svc.predict(X_test)\n",
    "svc_conf_matrix = confusion_matrix(y_test, svc_predicted)\n",
    "svc_acc_score = accuracy_score(y_test, svc_predicted)\n",
    "print(\"confussion matrix\")\n",
    "print(svc_conf_matrix)\n",
    "print(\"-------------------------------------------\")\n",
    "print(\"Accuracy of Support Vector Classifier:\",svc_acc_score*100,'\\n')\n",
    "print(\"-------------------------------------------\")\n",
    "print(classification_report(y_test,svc_predicted))"
   ]
  },
  {
   "cell_type": "code",
   "execution_count": 52,
   "id": "sealed-kruger",
   "metadata": {
    "execution": {
     "iopub.execute_input": "2021-03-18T11:22:22.155694Z",
     "iopub.status.busy": "2021-03-18T11:22:22.154968Z",
     "iopub.status.idle": "2021-03-18T11:22:22.192380Z",
     "shell.execute_reply": "2021-03-18T11:22:22.191761Z"
    },
    "papermill": {
     "duration": 0.138413,
     "end_time": "2021-03-18T11:22:22.192539",
     "exception": false,
     "start_time": "2021-03-18T11:22:22.054126",
     "status": "completed"
    },
    "tags": []
   },
   "outputs": [
    {
     "name": "stdout",
     "output_type": "stream",
     "text": [
      "confussion matrix\n",
      "[[1208    0]\n",
      " [  69    1]]\n",
      "-------------------------------------------\n",
      "Accuracy of : Stochastic Gradient Descent 94.60093896713614 \n",
      "\n",
      "-------------------------------------------\n",
      "              precision    recall  f1-score   support\n",
      "\n",
      "           0       0.95      1.00      0.97      1208\n",
      "           1       1.00      0.01      0.03        70\n",
      "\n",
      "    accuracy                           0.95      1278\n",
      "   macro avg       0.97      0.51      0.50      1278\n",
      "weighted avg       0.95      0.95      0.92      1278\n",
      "\n"
     ]
    }
   ],
   "source": [
    "model_sgd = 'Stochastic Gradient Descent'\n",
    "sgdc = SGDClassifier(max_iter=5000, random_state=0)\n",
    "sgdc.fit(X_train, y_train)\n",
    "sgdc_predicted = sgdc.predict(X_test)\n",
    "sgdc_conf_matrix = confusion_matrix(y_test, sgdc_predicted)\n",
    "sgdc_acc_score = accuracy_score(y_test, sgdc_predicted)\n",
    "print(\"confussion matrix\")\n",
    "print(sgdc_conf_matrix)\n",
    "print(\"-------------------------------------------\")\n",
    "print(\"Accuracy of : Stochastic Gradient Descent\",sgdc_acc_score*100,'\\n')\n",
    "print(\"-------------------------------------------\")\n",
    "print(classification_report(y_test,sgdc_predicted))"
   ]
  },
  {
   "cell_type": "code",
   "execution_count": 53,
   "id": "appointed-brick",
   "metadata": {
    "execution": {
     "iopub.execute_input": "2021-03-18T11:22:22.412364Z",
     "iopub.status.busy": "2021-03-18T11:22:22.401120Z",
     "iopub.status.idle": "2021-03-18T11:22:22.627631Z",
     "shell.execute_reply": "2021-03-18T11:22:22.626985Z"
    },
    "papermill": {
     "duration": 0.342451,
     "end_time": "2021-03-18T11:22:22.627853",
     "exception": false,
     "start_time": "2021-03-18T11:22:22.285402",
     "status": "completed"
    },
    "tags": []
   },
   "outputs": [
    {
     "ename": "NameError",
     "evalue": "name 'model_ev' is not defined",
     "output_type": "error",
     "traceback": [
      "\u001b[0;31m---------------------------------------------------------------------------\u001b[0m",
      "\u001b[0;31mNameError\u001b[0m                                 Traceback (most recent call last)",
      "\u001b[0;32m<ipython-input-53-a358cf05db8e>\u001b[0m in \u001b[0;36m<module>\u001b[0;34m\u001b[0m\n\u001b[1;32m      5\u001b[0m \u001b[0mplt\u001b[0m\u001b[0;34m.\u001b[0m\u001b[0mxticks\u001b[0m\u001b[0;34m(\u001b[0m\u001b[0mrotation\u001b[0m\u001b[0;34m=\u001b[0m\u001b[0;36m90\u001b[0m\u001b[0;34m)\u001b[0m\u001b[0;34m\u001b[0m\u001b[0;34m\u001b[0m\u001b[0m\n\u001b[1;32m      6\u001b[0m \u001b[0mplt\u001b[0m\u001b[0;34m.\u001b[0m\u001b[0mylabel\u001b[0m\u001b[0;34m(\u001b[0m\u001b[0;34m\"Algorithms\"\u001b[0m\u001b[0;34m)\u001b[0m\u001b[0;34m\u001b[0m\u001b[0;34m\u001b[0m\u001b[0m\n\u001b[0;32m----> 7\u001b[0;31m \u001b[0mplt\u001b[0m\u001b[0;34m.\u001b[0m\u001b[0mbar\u001b[0m\u001b[0;34m(\u001b[0m\u001b[0mmodel_ev\u001b[0m\u001b[0;34m[\u001b[0m\u001b[0;34m'Model'\u001b[0m\u001b[0;34m]\u001b[0m\u001b[0;34m,\u001b[0m\u001b[0mmodel_ev\u001b[0m\u001b[0;34m[\u001b[0m\u001b[0;34m'Accuracy'\u001b[0m\u001b[0;34m]\u001b[0m\u001b[0;34m,\u001b[0m \u001b[0mcolor\u001b[0m \u001b[0;34m=\u001b[0m \u001b[0mcolors\u001b[0m\u001b[0;34m)\u001b[0m\u001b[0;34m\u001b[0m\u001b[0;34m\u001b[0m\u001b[0m\n\u001b[0m\u001b[1;32m      8\u001b[0m \u001b[0mplt\u001b[0m\u001b[0;34m.\u001b[0m\u001b[0mshow\u001b[0m\u001b[0;34m(\u001b[0m\u001b[0;34m)\u001b[0m\u001b[0;34m\u001b[0m\u001b[0;34m\u001b[0m\u001b[0m\n",
      "\u001b[0;31mNameError\u001b[0m: name 'model_ev' is not defined"
     ]
    },
    {
     "data": {
      "image/png": "[encoded data removed]",
      "text/plain": [
       "<Figure size 864x360 with 1 Axes>"
      ]
     },
     "metadata": {},
     "output_type": "display_data"
    }
   ],
   "source": [
    "colors = ['red','green','blue','gold','silver','yellow','orange','magenta', 'cyan']\n",
    "plt.figure(figsize=(12,5))\n",
    "plt.title(\"barplot Represent Accuracy of different models\")\n",
    "plt.xlabel(\"Accuracy %\")\n",
    "plt.xticks(rotation=90)\n",
    "plt.ylabel(\"Algorithms\")\n",
    "plt.bar(model_ev['Model'],model_ev['Accuracy'], color = colors)\n",
    "plt.show()"
   ]
  },
  {
   "cell_type": "code",
   "execution_count": 54,
   "id": "swiss-polymer",
   "metadata": {
    "execution": {
     "iopub.execute_input": "2021-03-18T11:22:22.828534Z",
     "iopub.status.busy": "2021-03-18T11:22:22.827532Z",
     "iopub.status.idle": "2021-03-18T11:22:22.832216Z",
     "shell.execute_reply": "2021-03-18T11:22:22.831587Z"
    },
    "papermill": {
     "duration": 0.110629,
     "end_time": "2021-03-18T11:22:22.832381",
     "exception": false,
     "start_time": "2021-03-18T11:22:22.721752",
     "status": "completed"
    },
    "tags": []
   },
   "outputs": [
    {
     "data": {
      "text/html": [
       "<div>\n",
       "<style scoped>\n",
       "    .dataframe tbody tr th:only-of-type {\n",
       "        vertical-align: middle;\n",
       "    }\n",
       "\n",
       "    .dataframe tbody tr th {\n",
       "        vertical-align: top;\n",
       "    }\n",
       "\n",
       "    .dataframe thead th {\n",
       "        text-align: right;\n",
       "    }\n",
       "</style>\n",
       "<table border=\"1\" class=\"dataframe\">\n",
       "  <thead>\n",
       "    <tr style=\"text-align: right;\">\n",
       "      <th></th>\n",
       "      <th>Model</th>\n",
       "      <th>Accuracy</th>\n",
       "    </tr>\n",
       "  </thead>\n",
       "  <tbody>\n",
       "    <tr>\n",
       "      <th>0</th>\n",
       "      <td>Logistic Regression</td>\n",
       "      <td>94.600939</td>\n",
       "    </tr>\n",
       "    <tr>\n",
       "      <th>1</th>\n",
       "      <td>Naive Bayes</td>\n",
       "      <td>20.735524</td>\n",
       "    </tr>\n",
       "    <tr>\n",
       "      <th>2</th>\n",
       "      <td>Random Forest</td>\n",
       "      <td>94.522692</td>\n",
       "    </tr>\n",
       "    <tr>\n",
       "      <th>3</th>\n",
       "      <td>Extreme Gradient Boost</td>\n",
       "      <td>94.522692</td>\n",
       "    </tr>\n",
       "    <tr>\n",
       "      <th>4</th>\n",
       "      <td>Gradient Boost</td>\n",
       "      <td>94.366197</td>\n",
       "    </tr>\n",
       "    <tr>\n",
       "      <th>5</th>\n",
       "      <td>K-Nearest Neighbour</td>\n",
       "      <td>94.522692</td>\n",
       "    </tr>\n",
       "    <tr>\n",
       "      <th>6</th>\n",
       "      <td>Decision Tree</td>\n",
       "      <td>94.522692</td>\n",
       "    </tr>\n",
       "    <tr>\n",
       "      <th>7</th>\n",
       "      <td>Support Vector Machine</td>\n",
       "      <td>94.444444</td>\n",
       "    </tr>\n",
       "    <tr>\n",
       "      <th>8</th>\n",
       "      <td>Stochastic Gradient Descent</td>\n",
       "      <td>94.600939</td>\n",
       "    </tr>\n",
       "  </tbody>\n",
       "</table>\n",
       "</div>"
      ],
      "text/plain": [
       "                         Model   Accuracy\n",
       "0          Logistic Regression  94.600939\n",
       "1                  Naive Bayes  20.735524\n",
       "2                Random Forest  94.522692\n",
       "3       Extreme Gradient Boost  94.522692\n",
       "4               Gradient Boost  94.366197\n",
       "5          K-Nearest Neighbour  94.522692\n",
       "6                Decision Tree  94.522692\n",
       "7       Support Vector Machine  94.444444\n",
       "8  Stochastic Gradient Descent  94.600939"
      ]
     },
     "execution_count": 54,
     "metadata": {},
     "output_type": "execute_result"
    }
   ],
   "source": [
    "model_ev = pd.DataFrame({'Model': ['Logistic Regression','Naive Bayes','Random Forest','Extreme Gradient Boost','Gradient Boost',\n",
    "                    'K-Nearest Neighbour','Decision Tree','Support Vector Machine', 'Stochastic Gradient Descent'], 'Accuracy': [lr_acc_score*100,\n",
    "                    nb_acc_score*100,rf_acc_score*100,xgb_acc_score*100,gb_acc_score*100,knn_acc_score*100,dt_acc_score*100,svc_acc_score*100, sgdc_acc_score*100]})\n",
    "model_ev"
   ]
  },
  {
   "cell_type": "markdown",
   "id": "outside-determination",
   "metadata": {
    "papermill": {
     "duration": 0.093278,
     "end_time": "2021-03-18T11:22:23.024344",
     "exception": false,
     "start_time": "2021-03-18T11:22:22.931066",
     "status": "completed"
    },
    "tags": []
   },
   "source": [
    "<a id=\"conclusion\"></a>\n",
    "# Conclusion"
   ]
  },
  {
   "cell_type": "markdown",
   "id": "terminal-limit",
   "metadata": {
    "papermill": {
     "duration": 0.093816,
     "end_time": "2021-03-18T11:22:23.214334",
     "exception": false,
     "start_time": "2021-03-18T11:22:23.120518",
     "status": "completed"
    },
    "tags": []
   },
   "source": [
    "**Other algorithms performed very similar but we have the highest accuracy with logistic regression and Stochastic Gradient Descent (%94.60)**"
   ]
  }
 ],
 "metadata": {
  "kernelspec": {
   "display_name": "Python 3",
   "language": "python",
   "name": "python3"
  },
  "language_info": {
   "codemirror_mode": {
    "name": "ipython",
    "version": 3
   },
   "file_extension": ".py",
   "mimetype": "text/x-python",
   "name": "python",
   "nbconvert_exporter": "python",
   "pygments_lexer": "ipython3",
   "version": "3.7.9"
  },
  "papermill": {
   "default_parameters": {},
   "duration": 37.812529,
   "end_time": "2021-03-18T11:22:24.119524",
   "environment_variables": {},
   "exception": null,
   "input_path": "__notebook__.ipynb",
   "output_path": "__notebook__.ipynb",
   "parameters": {},
   "start_time": "2021-03-18T11:21:46.306995",
   "version": "2.3.2"
  }
 },
 "nbformat": 4,
 "nbformat_minor": 5
}
